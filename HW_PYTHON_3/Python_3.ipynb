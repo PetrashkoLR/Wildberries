{
 "cells": [
  {
   "cell_type": "code",
   "execution_count": 968,
   "metadata": {
    "tags": []
   },
   "outputs": [],
   "source": [
    "import pandas as pd\n",
    "import numpy as np"
   ]
  },
  {
   "cell_type": "markdown",
   "metadata": {
    "tags": []
   },
   "source": [
    "\n",
    "<h1>Задание 1</h1>\n",
    "\n",
    "есть небольшой искусственный датасет: https://www.kaggle.com/datasets/iamsouravbanerjee/customer-shopping-trends-dataset/data   \n",
    "Необходимо прочитать его и представить в виде df "
   ]
  },
  {
   "cell_type": "markdown",
   "metadata": {
    "tags": []
   },
   "source": [
    "## **Решение**"
   ]
  },
  {
   "cell_type": "code",
   "execution_count": 969,
   "metadata": {
    "tags": []
   },
   "outputs": [
    {
     "data": {
      "text/html": [
       "<div>\n",
       "<style scoped>\n",
       "    .dataframe tbody tr th:only-of-type {\n",
       "        vertical-align: middle;\n",
       "    }\n",
       "\n",
       "    .dataframe tbody tr th {\n",
       "        vertical-align: top;\n",
       "    }\n",
       "\n",
       "    .dataframe thead th {\n",
       "        text-align: right;\n",
       "    }\n",
       "</style>\n",
       "<table border=\"1\" class=\"dataframe\">\n",
       "  <thead>\n",
       "    <tr style=\"text-align: right;\">\n",
       "      <th></th>\n",
       "      <th>Age</th>\n",
       "      <th>Gender</th>\n",
       "      <th>Item Purchased</th>\n",
       "      <th>Category</th>\n",
       "      <th>Purchase Amount (USD)</th>\n",
       "      <th>Location</th>\n",
       "      <th>Size</th>\n",
       "      <th>Color</th>\n",
       "      <th>Season</th>\n",
       "      <th>Review Rating</th>\n",
       "      <th>Subscription Status</th>\n",
       "      <th>Payment Method</th>\n",
       "      <th>Shipping Type</th>\n",
       "      <th>Discount Applied</th>\n",
       "      <th>Promo Code Used</th>\n",
       "      <th>Previous Purchases</th>\n",
       "      <th>Preferred Payment Method</th>\n",
       "      <th>Frequency of Purchases</th>\n",
       "    </tr>\n",
       "    <tr>\n",
       "      <th>Customer ID</th>\n",
       "      <th></th>\n",
       "      <th></th>\n",
       "      <th></th>\n",
       "      <th></th>\n",
       "      <th></th>\n",
       "      <th></th>\n",
       "      <th></th>\n",
       "      <th></th>\n",
       "      <th></th>\n",
       "      <th></th>\n",
       "      <th></th>\n",
       "      <th></th>\n",
       "      <th></th>\n",
       "      <th></th>\n",
       "      <th></th>\n",
       "      <th></th>\n",
       "      <th></th>\n",
       "      <th></th>\n",
       "    </tr>\n",
       "  </thead>\n",
       "  <tbody>\n",
       "    <tr>\n",
       "      <th>1</th>\n",
       "      <td>55</td>\n",
       "      <td>Male</td>\n",
       "      <td>Blouse</td>\n",
       "      <td>Clothing</td>\n",
       "      <td>53</td>\n",
       "      <td>Kentucky</td>\n",
       "      <td>L</td>\n",
       "      <td>Gray</td>\n",
       "      <td>Winter</td>\n",
       "      <td>3.1</td>\n",
       "      <td>Yes</td>\n",
       "      <td>Credit Card</td>\n",
       "      <td>Express</td>\n",
       "      <td>Yes</td>\n",
       "      <td>Yes</td>\n",
       "      <td>14</td>\n",
       "      <td>Venmo</td>\n",
       "      <td>Fortnightly</td>\n",
       "    </tr>\n",
       "    <tr>\n",
       "      <th>2</th>\n",
       "      <td>19</td>\n",
       "      <td>Male</td>\n",
       "      <td>Sweater</td>\n",
       "      <td>Clothing</td>\n",
       "      <td>64</td>\n",
       "      <td>Maine</td>\n",
       "      <td>L</td>\n",
       "      <td>Maroon</td>\n",
       "      <td>Winter</td>\n",
       "      <td>3.1</td>\n",
       "      <td>Yes</td>\n",
       "      <td>Bank Transfer</td>\n",
       "      <td>Express</td>\n",
       "      <td>Yes</td>\n",
       "      <td>Yes</td>\n",
       "      <td>2</td>\n",
       "      <td>Cash</td>\n",
       "      <td>Fortnightly</td>\n",
       "    </tr>\n",
       "    <tr>\n",
       "      <th>3</th>\n",
       "      <td>50</td>\n",
       "      <td>Male</td>\n",
       "      <td>Jeans</td>\n",
       "      <td>Clothing</td>\n",
       "      <td>73</td>\n",
       "      <td>Massachusetts</td>\n",
       "      <td>S</td>\n",
       "      <td>Maroon</td>\n",
       "      <td>Spring</td>\n",
       "      <td>3.1</td>\n",
       "      <td>Yes</td>\n",
       "      <td>Cash</td>\n",
       "      <td>Free Shipping</td>\n",
       "      <td>Yes</td>\n",
       "      <td>Yes</td>\n",
       "      <td>23</td>\n",
       "      <td>Credit Card</td>\n",
       "      <td>Weekly</td>\n",
       "    </tr>\n",
       "    <tr>\n",
       "      <th>4</th>\n",
       "      <td>21</td>\n",
       "      <td>Male</td>\n",
       "      <td>Sandals</td>\n",
       "      <td>Footwear</td>\n",
       "      <td>90</td>\n",
       "      <td>Rhode Island</td>\n",
       "      <td>M</td>\n",
       "      <td>Maroon</td>\n",
       "      <td>Spring</td>\n",
       "      <td>3.5</td>\n",
       "      <td>Yes</td>\n",
       "      <td>PayPal</td>\n",
       "      <td>Next Day Air</td>\n",
       "      <td>Yes</td>\n",
       "      <td>Yes</td>\n",
       "      <td>49</td>\n",
       "      <td>PayPal</td>\n",
       "      <td>Weekly</td>\n",
       "    </tr>\n",
       "    <tr>\n",
       "      <th>5</th>\n",
       "      <td>45</td>\n",
       "      <td>Male</td>\n",
       "      <td>Blouse</td>\n",
       "      <td>Clothing</td>\n",
       "      <td>49</td>\n",
       "      <td>Oregon</td>\n",
       "      <td>M</td>\n",
       "      <td>Turquoise</td>\n",
       "      <td>Spring</td>\n",
       "      <td>2.7</td>\n",
       "      <td>Yes</td>\n",
       "      <td>Cash</td>\n",
       "      <td>Free Shipping</td>\n",
       "      <td>Yes</td>\n",
       "      <td>Yes</td>\n",
       "      <td>31</td>\n",
       "      <td>PayPal</td>\n",
       "      <td>Annually</td>\n",
       "    </tr>\n",
       "  </tbody>\n",
       "</table>\n",
       "</div>"
      ],
      "text/plain": [
       "             Age Gender Item Purchased  Category  Purchase Amount (USD)  \\\n",
       "Customer ID                                                               \n",
       "1             55   Male         Blouse  Clothing                     53   \n",
       "2             19   Male        Sweater  Clothing                     64   \n",
       "3             50   Male          Jeans  Clothing                     73   \n",
       "4             21   Male        Sandals  Footwear                     90   \n",
       "5             45   Male         Blouse  Clothing                     49   \n",
       "\n",
       "                  Location Size      Color  Season  Review Rating  \\\n",
       "Customer ID                                                         \n",
       "1                 Kentucky    L       Gray  Winter            3.1   \n",
       "2                    Maine    L     Maroon  Winter            3.1   \n",
       "3            Massachusetts    S     Maroon  Spring            3.1   \n",
       "4             Rhode Island    M     Maroon  Spring            3.5   \n",
       "5                   Oregon    M  Turquoise  Spring            2.7   \n",
       "\n",
       "            Subscription Status Payment Method  Shipping Type  \\\n",
       "Customer ID                                                     \n",
       "1                           Yes    Credit Card        Express   \n",
       "2                           Yes  Bank Transfer        Express   \n",
       "3                           Yes           Cash  Free Shipping   \n",
       "4                           Yes         PayPal   Next Day Air   \n",
       "5                           Yes           Cash  Free Shipping   \n",
       "\n",
       "            Discount Applied Promo Code Used  Previous Purchases  \\\n",
       "Customer ID                                                        \n",
       "1                        Yes             Yes                  14   \n",
       "2                        Yes             Yes                   2   \n",
       "3                        Yes             Yes                  23   \n",
       "4                        Yes             Yes                  49   \n",
       "5                        Yes             Yes                  31   \n",
       "\n",
       "            Preferred Payment Method Frequency of Purchases  \n",
       "Customer ID                                                  \n",
       "1                              Venmo            Fortnightly  \n",
       "2                               Cash            Fortnightly  \n",
       "3                        Credit Card                 Weekly  \n",
       "4                             PayPal                 Weekly  \n",
       "5                             PayPal               Annually  "
      ]
     },
     "execution_count": 969,
     "metadata": {},
     "output_type": "execute_result"
    }
   ],
   "source": [
    "url = 'https://raw.githubusercontent.com/PetrashkoLR/Wildberries/main/HW_PYTHON_3/shopping_trends.csv'\n",
    "df = pd.read_csv(url, index_col=0)\n",
    "df.head()"
   ]
  },
  {
   "cell_type": "markdown",
   "metadata": {},
   "source": [
    "<h1>Задание 2.1</h1>"
   ]
  },
  {
   "cell_type": "markdown",
   "metadata": {},
   "source": [
    "На основании данных из задания 1 необходимо составить максимальное(миним 5) кол-во гипотез о корреляциях между отдельными столбцами и проверить их (аналогично воршопу). При этом при составлении гипотез можно рассматривать не полный df, а именно выборки (например: \"женщины старше 40 лет покапают в основном осенью\")"
   ]
  },
  {
   "cell_type": "markdown",
   "metadata": {},
   "source": [
    "## **Решение**"
   ]
  },
  {
   "cell_type": "markdown",
   "metadata": {
    "tags": []
   },
   "source": [
    "### 1)   Женщины применяют промокоды чаще, чем мужчины"
   ]
  },
  {
   "cell_type": "code",
   "execution_count": 970,
   "metadata": {
    "tags": []
   },
   "outputs": [
    {
     "data": {
      "text/html": [
       "<div>\n",
       "<style scoped>\n",
       "    .dataframe tbody tr th:only-of-type {\n",
       "        vertical-align: middle;\n",
       "    }\n",
       "\n",
       "    .dataframe tbody tr th {\n",
       "        vertical-align: top;\n",
       "    }\n",
       "\n",
       "    .dataframe thead th {\n",
       "        text-align: right;\n",
       "    }\n",
       "</style>\n",
       "<table border=\"1\" class=\"dataframe\">\n",
       "  <thead>\n",
       "    <tr style=\"text-align: right;\">\n",
       "      <th></th>\n",
       "      <th>Gender</th>\n",
       "      <th>Promo Code Used</th>\n",
       "      <th>count</th>\n",
       "    </tr>\n",
       "  </thead>\n",
       "  <tbody>\n",
       "    <tr>\n",
       "      <th>0</th>\n",
       "      <td>Female</td>\n",
       "      <td>No</td>\n",
       "      <td>1248</td>\n",
       "    </tr>\n",
       "    <tr>\n",
       "      <th>1</th>\n",
       "      <td>Male</td>\n",
       "      <td>No</td>\n",
       "      <td>975</td>\n",
       "    </tr>\n",
       "    <tr>\n",
       "      <th>2</th>\n",
       "      <td>Male</td>\n",
       "      <td>Yes</td>\n",
       "      <td>1677</td>\n",
       "    </tr>\n",
       "  </tbody>\n",
       "</table>\n",
       "</div>"
      ],
      "text/plain": [
       "   Gender Promo Code Used  count\n",
       "0  Female              No   1248\n",
       "1    Male              No    975\n",
       "2    Male             Yes   1677"
      ]
     },
     "execution_count": 970,
     "metadata": {},
     "output_type": "execute_result"
    }
   ],
   "source": [
    "df_promocode = df.groupby(['Gender', 'Promo Code Used'])['Promo Code Used'].count().reset_index(name = 'count')\n",
    "df_promocode"
   ]
  },
  {
   "cell_type": "markdown",
   "metadata": {},
   "source": [
    "**Гипотеза не подтвердилась. По полученным данным женщины не применяют промокоды от слова совсем**"
   ]
  },
  {
   "cell_type": "markdown",
   "metadata": {},
   "source": [
    "### 2) Существует корреляция между возрастной группой и способом оплаты покупок"
   ]
  },
  {
   "cell_type": "code",
   "execution_count": 971,
   "metadata": {
    "tags": []
   },
   "outputs": [
    {
     "name": "stdout",
     "output_type": "stream",
     "text": [
      "alpha = 0.05\n",
      "p = 1.0\n",
      "\n",
      "Способ оплаты не зависит от возрастной группы\n"
     ]
    },
    {
     "data": {
      "text/html": [
       "<div>\n",
       "<style scoped>\n",
       "    .dataframe tbody tr th:only-of-type {\n",
       "        vertical-align: middle;\n",
       "    }\n",
       "\n",
       "    .dataframe tbody tr th {\n",
       "        vertical-align: top;\n",
       "    }\n",
       "\n",
       "    .dataframe thead th {\n",
       "        text-align: right;\n",
       "    }\n",
       "</style>\n",
       "<table border=\"1\" class=\"dataframe\">\n",
       "  <thead>\n",
       "    <tr style=\"text-align: right;\">\n",
       "      <th>Payment Method</th>\n",
       "      <th>Bank Transfer</th>\n",
       "      <th>Cash</th>\n",
       "      <th>Credit Card</th>\n",
       "      <th>Debit Card</th>\n",
       "      <th>PayPal</th>\n",
       "      <th>Venmo</th>\n",
       "    </tr>\n",
       "    <tr>\n",
       "      <th>Age</th>\n",
       "      <th></th>\n",
       "      <th></th>\n",
       "      <th></th>\n",
       "      <th></th>\n",
       "      <th></th>\n",
       "      <th></th>\n",
       "    </tr>\n",
       "  </thead>\n",
       "  <tbody>\n",
       "    <tr>\n",
       "      <th>(10, 20]</th>\n",
       "      <td>0.165094</td>\n",
       "      <td>0.198113</td>\n",
       "      <td>0.179245</td>\n",
       "      <td>0.155660</td>\n",
       "      <td>0.188679</td>\n",
       "      <td>0.113208</td>\n",
       "    </tr>\n",
       "    <tr>\n",
       "      <th>(20, 30]</th>\n",
       "      <td>0.166893</td>\n",
       "      <td>0.147897</td>\n",
       "      <td>0.162822</td>\n",
       "      <td>0.175034</td>\n",
       "      <td>0.181818</td>\n",
       "      <td>0.165536</td>\n",
       "    </tr>\n",
       "    <tr>\n",
       "      <th>(30, 40]</th>\n",
       "      <td>0.165517</td>\n",
       "      <td>0.171034</td>\n",
       "      <td>0.193103</td>\n",
       "      <td>0.168276</td>\n",
       "      <td>0.129655</td>\n",
       "      <td>0.172414</td>\n",
       "    </tr>\n",
       "    <tr>\n",
       "      <th>(40, 50]</th>\n",
       "      <td>0.154667</td>\n",
       "      <td>0.149333</td>\n",
       "      <td>0.174667</td>\n",
       "      <td>0.166667</td>\n",
       "      <td>0.186667</td>\n",
       "      <td>0.168000</td>\n",
       "    </tr>\n",
       "    <tr>\n",
       "      <th>(50, 100]</th>\n",
       "      <td>0.161247</td>\n",
       "      <td>0.176829</td>\n",
       "      <td>0.180894</td>\n",
       "      <td>0.151762</td>\n",
       "      <td>0.155827</td>\n",
       "      <td>0.173442</td>\n",
       "    </tr>\n",
       "  </tbody>\n",
       "</table>\n",
       "</div>"
      ],
      "text/plain": [
       "Payment Method  Bank Transfer      Cash  Credit Card  Debit Card    PayPal  \\\n",
       "Age                                                                          \n",
       "(10, 20]             0.165094  0.198113     0.179245    0.155660  0.188679   \n",
       "(20, 30]             0.166893  0.147897     0.162822    0.175034  0.181818   \n",
       "(30, 40]             0.165517  0.171034     0.193103    0.168276  0.129655   \n",
       "(40, 50]             0.154667  0.149333     0.174667    0.166667  0.186667   \n",
       "(50, 100]            0.161247  0.176829     0.180894    0.151762  0.155827   \n",
       "\n",
       "Payment Method     Venmo  \n",
       "Age                       \n",
       "(10, 20]        0.113208  \n",
       "(20, 30]        0.165536  \n",
       "(30, 40]        0.172414  \n",
       "(40, 50]        0.168000  \n",
       "(50, 100]       0.173442  "
      ]
     },
     "execution_count": 971,
     "metadata": {},
     "output_type": "execute_result"
    },
    {
     "data": {
      "image/png": "[encoded data removed]",
      "text/plain": [
       "<Figure size 640x480 with 1 Axes>"
      ]
     },
     "metadata": {},
     "output_type": "display_data"
    }
   ],
   "source": [
    "import scipy.stats as stats\n",
    "\n",
    "age = pd.cut(df[\"Age\"], [10, 20, 30, 40, 50, 100])\n",
    "agee = pd.DataFrame(pd.cut(df['Age'],[10, 20, 30, 40, 50, 100]))\n",
    "agee_arr = np.array(agee.groupby('Age')['Age'].count())\n",
    "\n",
    "df_pivot_cash_age = (df.pivot_table(\"Age\", index=[age], columns=\"Payment Method\", aggfunc = 'count').T / agee_arr).T # Нормировка\n",
    "df_pivot_cash_age.plot(kind = 'bar')\n",
    "\n",
    "\n",
    "statistic, p, dof, expected_freq = stats.chi2_contingency(df_pivot_cash_age)     # H_0 : (нулевая гипотеза) Две переменные независимы.\n",
    "alpha = 0.05                                                                     # H_1 : (альтернативная гипотеза) Две переменные не являются независимыми.\n",
    "print(f'alpha = {alpha}\\np = {p}\\n')                                             # Видим, что нулевая гипотеза не отвергается\n",
    "\n",
    "if p > alpha:\n",
    "    print('Способ оплаты не зависит от возрастной группы')\n",
    "else:\n",
    "    print('Зависимость между возрастной группой и способом оплаты возможна')\n",
    "\n",
    "df_pivot_cash_age"
   ]
  },
  {
   "cell_type": "markdown",
   "metadata": {},
   "source": [
    "### 3) Существует связь между категорией покупок и временами года "
   ]
  },
  {
   "cell_type": "code",
   "execution_count": 972,
   "metadata": {
    "tags": []
   },
   "outputs": [
    {
     "name": "stdout",
     "output_type": "stream",
     "text": [
      "alpha = 0.05\n",
      "p = 0.999999999998741\n",
      "\n",
      "Категория покупок и время года независимы\n"
     ]
    },
    {
     "data": {
      "text/html": [
       "<div>\n",
       "<style scoped>\n",
       "    .dataframe tbody tr th:only-of-type {\n",
       "        vertical-align: middle;\n",
       "    }\n",
       "\n",
       "    .dataframe tbody tr th {\n",
       "        vertical-align: top;\n",
       "    }\n",
       "\n",
       "    .dataframe thead th {\n",
       "        text-align: right;\n",
       "    }\n",
       "</style>\n",
       "<table border=\"1\" class=\"dataframe\">\n",
       "  <thead>\n",
       "    <tr style=\"text-align: right;\">\n",
       "      <th>Season</th>\n",
       "      <th>Fall</th>\n",
       "      <th>Spring</th>\n",
       "      <th>Summer</th>\n",
       "      <th>Winter</th>\n",
       "    </tr>\n",
       "    <tr>\n",
       "      <th>Category</th>\n",
       "      <th></th>\n",
       "      <th></th>\n",
       "      <th></th>\n",
       "      <th></th>\n",
       "    </tr>\n",
       "  </thead>\n",
       "  <tbody>\n",
       "    <tr>\n",
       "      <th>Accessories</th>\n",
       "      <td>0.261290</td>\n",
       "      <td>0.242742</td>\n",
       "      <td>0.251613</td>\n",
       "      <td>0.244355</td>\n",
       "    </tr>\n",
       "    <tr>\n",
       "      <th>Clothing</th>\n",
       "      <td>0.245826</td>\n",
       "      <td>0.261370</td>\n",
       "      <td>0.234888</td>\n",
       "      <td>0.257916</td>\n",
       "    </tr>\n",
       "    <tr>\n",
       "      <th>Footwear</th>\n",
       "      <td>0.227045</td>\n",
       "      <td>0.272120</td>\n",
       "      <td>0.267112</td>\n",
       "      <td>0.233723</td>\n",
       "    </tr>\n",
       "    <tr>\n",
       "      <th>Outerwear</th>\n",
       "      <td>0.271605</td>\n",
       "      <td>0.250000</td>\n",
       "      <td>0.231481</td>\n",
       "      <td>0.246914</td>\n",
       "    </tr>\n",
       "  </tbody>\n",
       "</table>\n",
       "</div>"
      ],
      "text/plain": [
       "Season           Fall    Spring    Summer    Winter\n",
       "Category                                           \n",
       "Accessories  0.261290  0.242742  0.251613  0.244355\n",
       "Clothing     0.245826  0.261370  0.234888  0.257916\n",
       "Footwear     0.227045  0.272120  0.267112  0.233723\n",
       "Outerwear    0.271605  0.250000  0.231481  0.246914"
      ]
     },
     "execution_count": 972,
     "metadata": {},
     "output_type": "execute_result"
    },
    {
     "data": {
      "image/png": "[encoded data removed]",
      "text/plain": [
       "<Figure size 640x480 with 1 Axes>"
      ]
     },
     "metadata": {},
     "output_type": "display_data"
    }
   ],
   "source": [
    "#df_seasons_category = df.groupby(['Category', 'Season'])['Season'].count().reset_index(name = 'count')\n",
    "count_category = np.array(pd.crosstab(df['Category'], df['Season'])).sum(axis = 1)\n",
    "\n",
    "df_seasons_category_crosstab = (pd.crosstab(df['Category'], df['Season']).T / count_category).T   #Нормировка                        \n",
    "df_seasons_category_crosstab.plot(kind = 'bar')\n",
    "\n",
    "statistic, p2, dof, expected_freq = stats.chi2_contingency(df_seasons_category_crosstab)      # H_0 : (нулевая гипотеза) Две переменные независимы.\n",
    "alpha = 0.05                                                                                  # H_1 : (альтернативная гипотеза) Две переменные не являются независимыми.\n",
    "print(f'alpha = {alpha}\\np = {p2}\\n')                                                         # Видим, что нулевая гипотеза не отвергается\n",
    "\n",
    "if p2 > alpha:\n",
    "    print('Категория покупок и время года независимы')\n",
    "else:\n",
    "    print('Связь есть')\n",
    "    \n",
    "df_seasons_category_crosstab"
   ]
  },
  {
   "cell_type": "markdown",
   "metadata": {},
   "source": [
    "### 4) На покупки свыше 60$ предпочитаемый и фактический метод оплаты совпадают"
   ]
  },
  {
   "cell_type": "code",
   "execution_count": 973,
   "metadata": {
    "tags": []
   },
   "outputs": [
    {
     "data": {
      "text/html": [
       "<div>\n",
       "<style scoped>\n",
       "    .dataframe tbody tr th:only-of-type {\n",
       "        vertical-align: middle;\n",
       "    }\n",
       "\n",
       "    .dataframe tbody tr th {\n",
       "        vertical-align: top;\n",
       "    }\n",
       "\n",
       "    .dataframe thead th {\n",
       "        text-align: right;\n",
       "    }\n",
       "</style>\n",
       "<table border=\"1\" class=\"dataframe\">\n",
       "  <thead>\n",
       "    <tr style=\"text-align: right;\">\n",
       "      <th>Do the payment methods match?</th>\n",
       "      <th>False</th>\n",
       "      <th>True</th>\n",
       "    </tr>\n",
       "    <tr>\n",
       "      <th>Payment Method</th>\n",
       "      <th></th>\n",
       "      <th></th>\n",
       "    </tr>\n",
       "  </thead>\n",
       "  <tbody>\n",
       "    <tr>\n",
       "      <th>Bank Transfer</th>\n",
       "      <td>257</td>\n",
       "      <td>58</td>\n",
       "    </tr>\n",
       "    <tr>\n",
       "      <th>Cash</th>\n",
       "      <td>266</td>\n",
       "      <td>64</td>\n",
       "    </tr>\n",
       "    <tr>\n",
       "      <th>Credit Card</th>\n",
       "      <td>314</td>\n",
       "      <td>53</td>\n",
       "    </tr>\n",
       "    <tr>\n",
       "      <th>Debit Card</th>\n",
       "      <td>253</td>\n",
       "      <td>37</td>\n",
       "    </tr>\n",
       "    <tr>\n",
       "      <th>PayPal</th>\n",
       "      <td>262</td>\n",
       "      <td>55</td>\n",
       "    </tr>\n",
       "    <tr>\n",
       "      <th>Venmo</th>\n",
       "      <td>298</td>\n",
       "      <td>46</td>\n",
       "    </tr>\n",
       "  </tbody>\n",
       "</table>\n",
       "</div>"
      ],
      "text/plain": [
       "Do the payment methods match?  False  True \n",
       "Payment Method                             \n",
       "Bank Transfer                    257     58\n",
       "Cash                             266     64\n",
       "Credit Card                      314     53\n",
       "Debit Card                       253     37\n",
       "PayPal                           262     55\n",
       "Venmo                            298     46"
      ]
     },
     "execution_count": 973,
     "metadata": {},
     "output_type": "execute_result"
    }
   ],
   "source": [
    "pd.options.mode.chained_assignment = None\n",
    "\n",
    "df_payment = df[df['Purchase Amount (USD)'] >= 60]\n",
    "df_payment['Do the payment methods match?'] = df_payment['Payment Method'] == df_payment['Preferred Payment Method']\n",
    "\n",
    "crosstab_payment = pd.crosstab(df_payment['Payment Method'], df_payment['Do the payment methods match?']) \n",
    "\n",
    "crosstab_payment"
   ]
  },
  {
   "cell_type": "markdown",
   "metadata": {
    "tags": []
   },
   "source": [
    "Как видно из таблицы, гипотеза неверна"
   ]
  },
  {
   "cell_type": "markdown",
   "metadata": {},
   "source": [
    "### 5) Каждый размер одежды в среднем покупают в равном количестве"
   ]
  },
  {
   "cell_type": "code",
   "execution_count": 974,
   "metadata": {
    "tags": []
   },
   "outputs": [
    {
     "data": {
      "text/plain": [
       "<Axes: title={'center': 'Distribution of clothing sizes'}, xlabel='Size', ylabel='Count'>"
      ]
     },
     "execution_count": 974,
     "metadata": {},
     "output_type": "execute_result"
    },
    {
     "data": {
      "image/png": "[encoded data removed]",
      "text/plain": [
       "<Figure size 640x480 with 1 Axes>"
      ]
     },
     "metadata": {},
     "output_type": "display_data"
    }
   ],
   "source": [
    "df_size = pd.DataFrame(df.groupby('Size')['Size'].count())\n",
    "df_size.plot(kind = 'bar', grid = True, ylabel = 'Count', title = 'Distribution of clothing sizes')"
   ]
  },
  {
   "cell_type": "markdown",
   "metadata": {},
   "source": [
    "Как видно из графиков, гипотеза неверна. Наиболее популярный размер - М"
   ]
  },
  {
   "cell_type": "markdown",
   "metadata": {
    "tags": []
   },
   "source": [
    "<h1>Задание 2.2</h1>"
   ]
  },
  {
   "cell_type": "markdown",
   "metadata": {},
   "source": [
    "Помимо гипотез, давайте найдем самый популярный товар, построим распределение покупателей по полу, определим какой пол(и отдельно возраст) покупает больше всего, чаще всего, самые дорогие товары. Определим есть ли зависимость между цветом одежды и сезоном. Так же посчитаем наш сезонный mau (уникальных пользователей за сезон) и его динамику. Так же давайте найдем самую популярную букву в названии одежды. "
   ]
  },
  {
   "cell_type": "markdown",
   "metadata": {
    "tags": []
   },
   "source": [
    "## **Решение**"
   ]
  },
  {
   "cell_type": "markdown",
   "metadata": {
    "tags": []
   },
   "source": [
    "### Самый популярный товар"
   ]
  },
  {
   "cell_type": "code",
   "execution_count": 975,
   "metadata": {
    "tags": []
   },
   "outputs": [
    {
     "name": "stdout",
     "output_type": "stream",
     "text": [
      "The most popular items: \n",
      "\n"
     ]
    },
    {
     "data": {
      "text/html": [
       "<div>\n",
       "<style scoped>\n",
       "    .dataframe tbody tr th:only-of-type {\n",
       "        vertical-align: middle;\n",
       "    }\n",
       "\n",
       "    .dataframe tbody tr th {\n",
       "        vertical-align: top;\n",
       "    }\n",
       "\n",
       "    .dataframe thead th {\n",
       "        text-align: right;\n",
       "    }\n",
       "</style>\n",
       "<table border=\"1\" class=\"dataframe\">\n",
       "  <thead>\n",
       "    <tr style=\"text-align: right;\">\n",
       "      <th></th>\n",
       "      <th>Item Purchased</th>\n",
       "      <th>count</th>\n",
       "    </tr>\n",
       "  </thead>\n",
       "  <tbody>\n",
       "    <tr>\n",
       "      <th>2</th>\n",
       "      <td>Blouse</td>\n",
       "      <td>171</td>\n",
       "    </tr>\n",
       "    <tr>\n",
       "      <th>12</th>\n",
       "      <td>Jewelry</td>\n",
       "      <td>171</td>\n",
       "    </tr>\n",
       "    <tr>\n",
       "      <th>13</th>\n",
       "      <td>Pants</td>\n",
       "      <td>171</td>\n",
       "    </tr>\n",
       "  </tbody>\n",
       "</table>\n",
       "</div>"
      ],
      "text/plain": [
       "   Item Purchased  count\n",
       "2          Blouse    171\n",
       "12        Jewelry    171\n",
       "13          Pants    171"
      ]
     },
     "execution_count": 975,
     "metadata": {},
     "output_type": "execute_result"
    }
   ],
   "source": [
    "df1 = pd.DataFrame(df['Item Purchased']).copy()     # Выбираю из исходной толбицы столбец с наименованиями товаров\n",
    "df1_group = df1.groupby(['Item Purchased'])['Item Purchased'].count().reset_index(name = 'count')     # Группирую по названиям и добавляю столбик count с кол-вом\n",
    "\n",
    "max_count = np.max(df1_group['count'])     # Нахожу максимальное число товаров в группе среди всех групп\n",
    "print(\"The most popular items: \\n\") \n",
    "df1_group[df1_group['count'] == max_count]    # Отбираю те группы товаров (по наименованию товара), у которых больше всего покупок "
   ]
  },
  {
   "cell_type": "markdown",
   "metadata": {
    "tags": []
   },
   "source": [
    "### Распределение покупателей по полу"
   ]
  },
  {
   "cell_type": "code",
   "execution_count": 976,
   "metadata": {
    "tags": []
   },
   "outputs": [
    {
     "data": {
      "text/plain": [
       "<Axes: title={'center': 'Distribution Male/Female'}, ylabel='count'>"
      ]
     },
     "execution_count": 976,
     "metadata": {},
     "output_type": "execute_result"
    },
    {
     "data": {
      "image/png": "[encoded data removed]",
      "text/plain": [
       "<Figure size 400x400 with 1 Axes>"
      ]
     },
     "metadata": {},
     "output_type": "display_data"
    }
   ],
   "source": [
    "df2 = pd.DataFrame(df['Gender']).copy()     # Выбираю из исходной толбицы столбец с гендером покупателя\n",
    "df2_group = df2.groupby(['Gender'], )['Gender'].count().reset_index(name = 'count')     # Группирую их и нахожу кол-во в каждой группе\n",
    "\n",
    "# Построение круговой диаграммы \n",
    "colors = ['pink', 'lightblue'] \n",
    "df2_group.plot(kind = 'pie', y = 'count', autopct='%1.0f%%', colors = colors, labels = df2_group['Gender'], figsize = (4, 4), title='Distribution Male/Female')"
   ]
  },
  {
   "cell_type": "markdown",
   "metadata": {
    "tags": []
   },
   "source": [
    "### Определение какой пол покупает больше всего, чаще всего, самые дорогие товары"
   ]
  },
  {
   "cell_type": "code",
   "execution_count": 977,
   "metadata": {
    "tags": []
   },
   "outputs": [
    {
     "name": "stdout",
     "output_type": "stream",
     "text": [
      "Больше всего покупают: Male\n"
     ]
    },
    {
     "data": {
      "text/html": [
       "<div>\n",
       "<style scoped>\n",
       "    .dataframe tbody tr th:only-of-type {\n",
       "        vertical-align: middle;\n",
       "    }\n",
       "\n",
       "    .dataframe tbody tr th {\n",
       "        vertical-align: top;\n",
       "    }\n",
       "\n",
       "    .dataframe thead th {\n",
       "        text-align: right;\n",
       "    }\n",
       "</style>\n",
       "<table border=\"1\" class=\"dataframe\">\n",
       "  <thead>\n",
       "    <tr style=\"text-align: right;\">\n",
       "      <th></th>\n",
       "      <th>Gender</th>\n",
       "      <th>count</th>\n",
       "    </tr>\n",
       "  </thead>\n",
       "  <tbody>\n",
       "    <tr>\n",
       "      <th>0</th>\n",
       "      <td>Female</td>\n",
       "      <td>1248</td>\n",
       "    </tr>\n",
       "    <tr>\n",
       "      <th>1</th>\n",
       "      <td>Male</td>\n",
       "      <td>2652</td>\n",
       "    </tr>\n",
       "  </tbody>\n",
       "</table>\n",
       "</div>"
      ],
      "text/plain": [
       "   Gender  count\n",
       "0  Female   1248\n",
       "1    Male   2652"
      ]
     },
     "execution_count": 977,
     "metadata": {},
     "output_type": "execute_result"
    }
   ],
   "source": [
    "gender_max = df.groupby(['Gender'])['Gender'].count().reset_index(name = 'count')      # Группировка по полу с выведением в доп. столбец кол-ва человек\n",
    "index_max_count = (gender_max['count'].idxmax())     # Индекс строки с бОльшим кол-вом людей в группе\n",
    "print(\"Больше всего покупают:\", gender_max.iloc[gender_max.index[index_max_count]]['Gender']) \n",
    "\n",
    "gender_max"
   ]
  },
  {
   "cell_type": "code",
   "execution_count": 978,
   "metadata": {
    "tags": []
   },
   "outputs": [
    {
     "name": "stdout",
     "output_type": "stream",
     "text": [
      "Чаще покупают с частотой Fortnightly: Male\n",
      "Чаще покупают с частотой Weekly: Male\n",
      "Чаще покупают с частотой Annually: Male\n",
      "Чаще покупают с частотой Quarterly: Male\n",
      "Чаще покупают с частотой Bi-Weekly: Male\n",
      "Чаще покупают с частотой Monthly: Male\n",
      "Чаще покупают с частотой Every 3 Months: Male\n",
      "\n",
      "Чаще всего совершают покупки: Male\n"
     ]
    },
    {
     "data": {
      "text/html": [
       "<div>\n",
       "<style scoped>\n",
       "    .dataframe tbody tr th:only-of-type {\n",
       "        vertical-align: middle;\n",
       "    }\n",
       "\n",
       "    .dataframe tbody tr th {\n",
       "        vertical-align: top;\n",
       "    }\n",
       "\n",
       "    .dataframe thead th {\n",
       "        text-align: right;\n",
       "    }\n",
       "</style>\n",
       "<table border=\"1\" class=\"dataframe\">\n",
       "  <thead>\n",
       "    <tr style=\"text-align: right;\">\n",
       "      <th></th>\n",
       "      <th>Frequency of Purchases</th>\n",
       "      <th>Gender</th>\n",
       "      <th>count</th>\n",
       "    </tr>\n",
       "  </thead>\n",
       "  <tbody>\n",
       "    <tr>\n",
       "      <th>0</th>\n",
       "      <td>Annually</td>\n",
       "      <td>Female</td>\n",
       "      <td>185</td>\n",
       "    </tr>\n",
       "    <tr>\n",
       "      <th>1</th>\n",
       "      <td>Annually</td>\n",
       "      <td>Male</td>\n",
       "      <td>387</td>\n",
       "    </tr>\n",
       "    <tr>\n",
       "      <th>2</th>\n",
       "      <td>Bi-Weekly</td>\n",
       "      <td>Female</td>\n",
       "      <td>188</td>\n",
       "    </tr>\n",
       "    <tr>\n",
       "      <th>3</th>\n",
       "      <td>Bi-Weekly</td>\n",
       "      <td>Male</td>\n",
       "      <td>359</td>\n",
       "    </tr>\n",
       "    <tr>\n",
       "      <th>4</th>\n",
       "      <td>Every 3 Months</td>\n",
       "      <td>Female</td>\n",
       "      <td>186</td>\n",
       "    </tr>\n",
       "    <tr>\n",
       "      <th>5</th>\n",
       "      <td>Every 3 Months</td>\n",
       "      <td>Male</td>\n",
       "      <td>398</td>\n",
       "    </tr>\n",
       "    <tr>\n",
       "      <th>6</th>\n",
       "      <td>Fortnightly</td>\n",
       "      <td>Female</td>\n",
       "      <td>163</td>\n",
       "    </tr>\n",
       "    <tr>\n",
       "      <th>7</th>\n",
       "      <td>Fortnightly</td>\n",
       "      <td>Male</td>\n",
       "      <td>379</td>\n",
       "    </tr>\n",
       "    <tr>\n",
       "      <th>8</th>\n",
       "      <td>Monthly</td>\n",
       "      <td>Female</td>\n",
       "      <td>185</td>\n",
       "    </tr>\n",
       "    <tr>\n",
       "      <th>9</th>\n",
       "      <td>Monthly</td>\n",
       "      <td>Male</td>\n",
       "      <td>368</td>\n",
       "    </tr>\n",
       "    <tr>\n",
       "      <th>10</th>\n",
       "      <td>Quarterly</td>\n",
       "      <td>Female</td>\n",
       "      <td>169</td>\n",
       "    </tr>\n",
       "    <tr>\n",
       "      <th>11</th>\n",
       "      <td>Quarterly</td>\n",
       "      <td>Male</td>\n",
       "      <td>394</td>\n",
       "    </tr>\n",
       "    <tr>\n",
       "      <th>12</th>\n",
       "      <td>Weekly</td>\n",
       "      <td>Female</td>\n",
       "      <td>172</td>\n",
       "    </tr>\n",
       "    <tr>\n",
       "      <th>13</th>\n",
       "      <td>Weekly</td>\n",
       "      <td>Male</td>\n",
       "      <td>367</td>\n",
       "    </tr>\n",
       "  </tbody>\n",
       "</table>\n",
       "</div>"
      ],
      "text/plain": [
       "   Frequency of Purchases  Gender  count\n",
       "0                Annually  Female    185\n",
       "1                Annually    Male    387\n",
       "2               Bi-Weekly  Female    188\n",
       "3               Bi-Weekly    Male    359\n",
       "4          Every 3 Months  Female    186\n",
       "5          Every 3 Months    Male    398\n",
       "6             Fortnightly  Female    163\n",
       "7             Fortnightly    Male    379\n",
       "8                 Monthly  Female    185\n",
       "9                 Monthly    Male    368\n",
       "10              Quarterly  Female    169\n",
       "11              Quarterly    Male    394\n",
       "12                 Weekly  Female    172\n",
       "13                 Weekly    Male    367"
      ]
     },
     "execution_count": 978,
     "metadata": {},
     "output_type": "execute_result"
    }
   ],
   "source": [
    "array_frequency = df['Frequency of Purchases'].unique()      # Массив видов частот покупок\n",
    "gender_frequency = df.groupby(['Frequency of Purchases', 'Gender'])['Gender'].count().reset_index(name = 'count')     # Группируем по частотам и гендерам\n",
    "for freq in array_frequency:     # В каждой группе частоты определяем какой гендер больше совершал покупок\n",
    "    i = gender_frequency[gender_frequency['Frequency of Purchases'] == freq]     # Мини массив с конкретной частотой\n",
    "    max_index = i['count'].idxmax()     # Индекс у строки с большим кол-вом людей\n",
    "    print(f\"Чаще покупают с частотой {i['Frequency of Purchases'].loc[max_index]}:\", i['Gender'].loc[max_index])\n",
    "\n",
    "# Самое частое - еженедельные покупки, поэтому отдельно выведу гендер по этой группе\n",
    "max_index2 = gender_frequency[gender_frequency['Frequency of Purchases'] == 'Weekly']['count'].idxmax()  \n",
    "print(f'\\nЧаще всего совершают покупки: {gender_frequency[\"Gender\"].loc[max_index2]}')\n",
    "\n",
    "gender_frequency"
   ]
  },
  {
   "cell_type": "code",
   "execution_count": 979,
   "metadata": {
    "tags": []
   },
   "outputs": [
    {
     "name": "stdout",
     "output_type": "stream",
     "text": [
      "Больше дорогих покупок совершают: Male\n"
     ]
    },
    {
     "data": {
      "text/html": [
       "<div>\n",
       "<style scoped>\n",
       "    .dataframe tbody tr th:only-of-type {\n",
       "        vertical-align: middle;\n",
       "    }\n",
       "\n",
       "    .dataframe tbody tr th {\n",
       "        vertical-align: top;\n",
       "    }\n",
       "\n",
       "    .dataframe thead th {\n",
       "        text-align: right;\n",
       "    }\n",
       "</style>\n",
       "<table border=\"1\" class=\"dataframe\">\n",
       "  <thead>\n",
       "    <tr style=\"text-align: right;\">\n",
       "      <th></th>\n",
       "      <th>Gender</th>\n",
       "      <th>count</th>\n",
       "    </tr>\n",
       "  </thead>\n",
       "  <tbody>\n",
       "    <tr>\n",
       "      <th>0</th>\n",
       "      <td>Female</td>\n",
       "      <td>11</td>\n",
       "    </tr>\n",
       "    <tr>\n",
       "      <th>1</th>\n",
       "      <td>Male</td>\n",
       "      <td>25</td>\n",
       "    </tr>\n",
       "  </tbody>\n",
       "</table>\n",
       "</div>"
      ],
      "text/plain": [
       "   Gender  count\n",
       "0  Female     11\n",
       "1    Male     25"
      ]
     },
     "execution_count": 979,
     "metadata": {},
     "output_type": "execute_result"
    }
   ],
   "source": [
    "highest_price = df['Purchase Amount (USD)'].max()     # Цена самого дорогого товара \n",
    "most_expensive = df[df['Purchase Amount (USD)'] == highest_price]     # Таблица с самыми дорогими товарами\n",
    "most_expensive_group = most_expensive.groupby('Gender')['Gender'].count().reset_index(name = 'count')     # Группировка этой таблицы по гендерам\n",
    "\n",
    "max_index = most_expensive_group['count'].idxmax()     # Индекс строки с бОльшим кол-вом людей в группе\n",
    "print(f'Больше дорогих покупок совершают: {most_expensive_group[\"Gender\"].loc[max_index]}')\n",
    "\n",
    "most_expensive_group"
   ]
  },
  {
   "cell_type": "markdown",
   "metadata": {
    "tags": []
   },
   "source": [
    "### Определение какой возраст покупает больше всего, чаще всего, самые дорогие товары"
   ]
  },
  {
   "cell_type": "code",
   "execution_count": 980,
   "metadata": {
    "tags": []
   },
   "outputs": [
    {
     "name": "stdout",
     "output_type": "stream",
     "text": [
      "Больше всего покупают люди возраста: 69 лет\n"
     ]
    },
    {
     "data": {
      "text/html": [
       "<div>\n",
       "<style scoped>\n",
       "    .dataframe tbody tr th:only-of-type {\n",
       "        vertical-align: middle;\n",
       "    }\n",
       "\n",
       "    .dataframe tbody tr th {\n",
       "        vertical-align: top;\n",
       "    }\n",
       "\n",
       "    .dataframe thead th {\n",
       "        text-align: right;\n",
       "    }\n",
       "</style>\n",
       "<table border=\"1\" class=\"dataframe\">\n",
       "  <thead>\n",
       "    <tr style=\"text-align: right;\">\n",
       "      <th></th>\n",
       "      <th>Age</th>\n",
       "      <th>count</th>\n",
       "    </tr>\n",
       "  </thead>\n",
       "  <tbody>\n",
       "    <tr>\n",
       "      <th>0</th>\n",
       "      <td>18</td>\n",
       "      <td>69</td>\n",
       "    </tr>\n",
       "    <tr>\n",
       "      <th>1</th>\n",
       "      <td>19</td>\n",
       "      <td>81</td>\n",
       "    </tr>\n",
       "    <tr>\n",
       "      <th>2</th>\n",
       "      <td>20</td>\n",
       "      <td>62</td>\n",
       "    </tr>\n",
       "    <tr>\n",
       "      <th>3</th>\n",
       "      <td>21</td>\n",
       "      <td>69</td>\n",
       "    </tr>\n",
       "    <tr>\n",
       "      <th>4</th>\n",
       "      <td>22</td>\n",
       "      <td>66</td>\n",
       "    </tr>\n",
       "  </tbody>\n",
       "</table>\n",
       "</div>"
      ],
      "text/plain": [
       "   Age  count\n",
       "0   18     69\n",
       "1   19     81\n",
       "2   20     62\n",
       "3   21     69\n",
       "4   22     66"
      ]
     },
     "execution_count": 980,
     "metadata": {},
     "output_type": "execute_result"
    }
   ],
   "source": [
    "age_max = df.groupby(['Age'])['Age'].count().reset_index(name = 'count')      # Группировка по возрасту с выведением в доп. столбец кол-ва человек\n",
    "index_max_count = (age_max['count'].idxmax())     # Индекс строки с бОльшим кол-вом людей в группе\n",
    "print(f\"Больше всего покупают люди возраста: {age_max.iloc[age_max.index[index_max_count]]['Age']} лет\") \n",
    "\n",
    "age_max.head()"
   ]
  },
  {
   "cell_type": "code",
   "execution_count": 981,
   "metadata": {
    "tags": []
   },
   "outputs": [
    {
     "name": "stdout",
     "output_type": "stream",
     "text": [
      "Чаще покупают с частотой Fortnightly: люди 19 лет\n",
      "Чаще покупают с частотой Weekly: люди 32 лет\n",
      "Чаще покупают с частотой Annually: люди 64 лет\n",
      "Чаще покупают с частотой Quarterly: люди 54 лет\n",
      "Чаще покупают с частотой Bi-Weekly: люди 29 лет\n",
      "Чаще покупают с частотой Monthly: люди 27 лет\n",
      "Чаще покупают с частотой Every 3 Months: люди 31 лет\n",
      "\n",
      "Чаще всего совершают покупки: люди 32 лет\n"
     ]
    },
    {
     "data": {
      "text/html": [
       "<div>\n",
       "<style scoped>\n",
       "    .dataframe tbody tr th:only-of-type {\n",
       "        vertical-align: middle;\n",
       "    }\n",
       "\n",
       "    .dataframe tbody tr th {\n",
       "        vertical-align: top;\n",
       "    }\n",
       "\n",
       "    .dataframe thead th {\n",
       "        text-align: right;\n",
       "    }\n",
       "</style>\n",
       "<table border=\"1\" class=\"dataframe\">\n",
       "  <thead>\n",
       "    <tr style=\"text-align: right;\">\n",
       "      <th></th>\n",
       "      <th>Frequency of Purchases</th>\n",
       "      <th>Age</th>\n",
       "      <th>count</th>\n",
       "    </tr>\n",
       "  </thead>\n",
       "  <tbody>\n",
       "    <tr>\n",
       "      <th>0</th>\n",
       "      <td>Annually</td>\n",
       "      <td>18</td>\n",
       "      <td>10</td>\n",
       "    </tr>\n",
       "    <tr>\n",
       "      <th>1</th>\n",
       "      <td>Annually</td>\n",
       "      <td>19</td>\n",
       "      <td>10</td>\n",
       "    </tr>\n",
       "    <tr>\n",
       "      <th>2</th>\n",
       "      <td>Annually</td>\n",
       "      <td>20</td>\n",
       "      <td>10</td>\n",
       "    </tr>\n",
       "    <tr>\n",
       "      <th>3</th>\n",
       "      <td>Annually</td>\n",
       "      <td>21</td>\n",
       "      <td>19</td>\n",
       "    </tr>\n",
       "    <tr>\n",
       "      <th>4</th>\n",
       "      <td>Annually</td>\n",
       "      <td>22</td>\n",
       "      <td>11</td>\n",
       "    </tr>\n",
       "  </tbody>\n",
       "</table>\n",
       "</div>"
      ],
      "text/plain": [
       "  Frequency of Purchases  Age  count\n",
       "0               Annually   18     10\n",
       "1               Annually   19     10\n",
       "2               Annually   20     10\n",
       "3               Annually   21     19\n",
       "4               Annually   22     11"
      ]
     },
     "execution_count": 981,
     "metadata": {},
     "output_type": "execute_result"
    }
   ],
   "source": [
    "age_frequency = df.groupby(['Frequency of Purchases', 'Age'])['Age'].count().reset_index(name = 'count')     # Группируем по частотам и возрастам\n",
    "for freq in array_frequency:     # В каждой группе частоты определяем какой возраст больше совершал покупок\n",
    "    i = age_frequency[age_frequency['Frequency of Purchases'] == freq]     # Мини массив с конкретной частотой\n",
    "    max_index = i['count'].idxmax()     # Индекс у строки с бOльшим кол-вом людей\n",
    "    print(f\"Чаще покупают с частотой {i['Frequency of Purchases'].loc[max_index]}: люди {i['Age'].loc[max_index]} лет\")\n",
    "\n",
    "# Самое частое - еженедельные покупки, поэтому отдельно выведу возраст по этой группе\n",
    "max_index2 = age_frequency[age_frequency['Frequency of Purchases'] == 'Weekly']['count'].idxmax()  \n",
    "print(f'\\nЧаще всего совершают покупки: люди {age_frequency[\"Age\"].loc[max_index2]} лет')\n",
    "\n",
    "age_frequency.head(5)"
   ]
  },
  {
   "cell_type": "code",
   "execution_count": 982,
   "metadata": {
    "tags": []
   },
   "outputs": [
    {
     "name": "stdout",
     "output_type": "stream",
     "text": [
      "Больше дорогих покупок совершают: люди 20 лет\n"
     ]
    },
    {
     "data": {
      "text/html": [
       "<div>\n",
       "<style scoped>\n",
       "    .dataframe tbody tr th:only-of-type {\n",
       "        vertical-align: middle;\n",
       "    }\n",
       "\n",
       "    .dataframe tbody tr th {\n",
       "        vertical-align: top;\n",
       "    }\n",
       "\n",
       "    .dataframe thead th {\n",
       "        text-align: right;\n",
       "    }\n",
       "</style>\n",
       "<table border=\"1\" class=\"dataframe\">\n",
       "  <thead>\n",
       "    <tr style=\"text-align: right;\">\n",
       "      <th></th>\n",
       "      <th>Age</th>\n",
       "      <th>count</th>\n",
       "    </tr>\n",
       "  </thead>\n",
       "  <tbody>\n",
       "    <tr>\n",
       "      <th>0</th>\n",
       "      <td>18</td>\n",
       "      <td>2</td>\n",
       "    </tr>\n",
       "    <tr>\n",
       "      <th>1</th>\n",
       "      <td>20</td>\n",
       "      <td>3</td>\n",
       "    </tr>\n",
       "    <tr>\n",
       "      <th>2</th>\n",
       "      <td>22</td>\n",
       "      <td>1</td>\n",
       "    </tr>\n",
       "    <tr>\n",
       "      <th>3</th>\n",
       "      <td>24</td>\n",
       "      <td>2</td>\n",
       "    </tr>\n",
       "    <tr>\n",
       "      <th>4</th>\n",
       "      <td>25</td>\n",
       "      <td>2</td>\n",
       "    </tr>\n",
       "  </tbody>\n",
       "</table>\n",
       "</div>"
      ],
      "text/plain": [
       "   Age  count\n",
       "0   18      2\n",
       "1   20      3\n",
       "2   22      1\n",
       "3   24      2\n",
       "4   25      2"
      ]
     },
     "execution_count": 982,
     "metadata": {},
     "output_type": "execute_result"
    }
   ],
   "source": [
    "most_expensive_group = most_expensive.groupby('Age')['Age'].count().reset_index(name = 'count')     # Группировка этой таблицы по ворастам\n",
    "\n",
    "max_index = most_expensive_group['count'].idxmax()     # Индекс строки с бОльшим кол-вом людей в группе\n",
    "print(f'Больше дорогих покупок совершают: люди {most_expensive_group[\"Age\"].loc[max_index]} лет')\n",
    "\n",
    "most_expensive_group.head()"
   ]
  },
  {
   "cell_type": "markdown",
   "metadata": {
    "tags": []
   },
   "source": [
    "### Определение наличия зависимости между цветом одежды и сезоном"
   ]
  },
  {
   "cell_type": "code",
   "execution_count": 983,
   "metadata": {
    "tags": []
   },
   "outputs": [
    {
     "name": "stdout",
     "output_type": "stream",
     "text": [
      "alpha = 0.05\n",
      "p-value = 0.72\n",
      "\n",
      "Цвет не зависит от времени года\n"
     ]
    },
    {
     "data": {
      "image/png": "[encoded data removed]",
      "text/plain": [
       "<Figure size 640x480 with 2 Axes>"
      ]
     },
     "metadata": {},
     "output_type": "display_data"
    }
   ],
   "source": [
    "import seaborn as sns\n",
    "\n",
    "crosstab = pd.crosstab(df['Color'], df['Season'])                             # Для построения heatmap\n",
    "max_values = crosstab.max().reset_index(name = 'max_value')\n",
    "maximum = max(max_values['max_value'])\n",
    "min_values = crosstab.min().reset_index(name = 'min_value')\n",
    "minimum = min(min_values['min_value'])\n",
    "\n",
    "sns.heatmap(crosstab, annot=True, vmin=minimum, vmax=maximum, linewidth=.5)\n",
    "\n",
    "\n",
    "\n",
    "import scipy.stats as stats\n",
    "\n",
    "statistic, p_value, dof, expected_freq = stats.chi2_contingency(crosstab)     # H_0 : (нулевая гипотеза) Две переменные независимы.\n",
    "alpha = 0.05                                                                  # H_1 : (альтернативная гипотеза) Две переменные не являются независимыми.\n",
    "print(f'alpha = {alpha}\\np-value = {np.round(p_value, 2)}\\n')                 # Видим, что нулевая гипотеза не отвергается\n",
    "\n",
    "if p_value > alpha:\n",
    "    print('Цвет не зависит от времени года')\n",
    "else:\n",
    "    print('Зависимоть цвета и времени года возможна')"
   ]
  },
  {
   "cell_type": "markdown",
   "metadata": {
    "tags": []
   },
   "source": [
    "### Подсчет сезонного mau (уникальные пользователей за сезон) и его динамика"
   ]
  },
  {
   "cell_type": "code",
   "execution_count": 984,
   "metadata": {
    "tags": []
   },
   "outputs": [
    {
     "data": {
      "text/html": [
       "<div>\n",
       "<style scoped>\n",
       "    .dataframe tbody tr th:only-of-type {\n",
       "        vertical-align: middle;\n",
       "    }\n",
       "\n",
       "    .dataframe tbody tr th {\n",
       "        vertical-align: top;\n",
       "    }\n",
       "\n",
       "    .dataframe thead th {\n",
       "        text-align: right;\n",
       "    }\n",
       "</style>\n",
       "<table border=\"1\" class=\"dataframe\">\n",
       "  <thead>\n",
       "    <tr style=\"text-align: right;\">\n",
       "      <th></th>\n",
       "      <th>mau</th>\n",
       "    </tr>\n",
       "    <tr>\n",
       "      <th>Season</th>\n",
       "      <th></th>\n",
       "    </tr>\n",
       "  </thead>\n",
       "  <tbody>\n",
       "    <tr>\n",
       "      <th>Fall</th>\n",
       "      <td>975</td>\n",
       "    </tr>\n",
       "    <tr>\n",
       "      <th>Spring</th>\n",
       "      <td>999</td>\n",
       "    </tr>\n",
       "    <tr>\n",
       "      <th>Summer</th>\n",
       "      <td>955</td>\n",
       "    </tr>\n",
       "    <tr>\n",
       "      <th>Winter</th>\n",
       "      <td>971</td>\n",
       "    </tr>\n",
       "  </tbody>\n",
       "</table>\n",
       "</div>"
      ],
      "text/plain": [
       "        mau\n",
       "Season     \n",
       "Fall    975\n",
       "Spring  999\n",
       "Summer  955\n",
       "Winter  971"
      ]
     },
     "execution_count": 984,
     "metadata": {},
     "output_type": "execute_result"
    },
    {
     "data": {
      "image/png": "[encoded data removed]",
      "text/plain": [
       "<Figure size 640x480 with 1 Axes>"
      ]
     },
     "metadata": {},
     "output_type": "display_data"
    }
   ],
   "source": [
    "df3 = df.reset_index()[['Customer ID', 'Season']]     # Выделяю таблицу только по id и временам года\n",
    "df3_group = df3.groupby(['Season'])['Customer ID'].nunique().reset_index(name = 'mau')     # Группирую по временам года с подсчетом уникальных id\n",
    "\n",
    "# Чуть модернизирую таблицу для нормальных подписей оси икс\n",
    "df3_group.index = df3_group['Season']\n",
    "new_df = df3_group.drop('Season', axis = 1)\n",
    "new_df.plot(xlabel = 'Seasons', ylabel = 'count unique customers ID', grid = True, legend = True, color = 'green', marker='o')\n",
    "\n",
    "new_df"
   ]
  },
  {
   "cell_type": "markdown",
   "metadata": {
    "tags": []
   },
   "source": [
    "### Самая популярная буква в названии одежды **! (если выбирать лишь уникальные названия)**"
   ]
  },
  {
   "cell_type": "code",
   "execution_count": 985,
   "metadata": {
    "tags": []
   },
   "outputs": [
    {
     "name": "stdout",
     "output_type": "stream",
     "text": [
      "Самая популярная буква в названии одежды: s\n",
      "\n",
      "Список названий товаров одежды: ['Blouse' 'Sweater' 'Jeans' 'Sandals' 'Sneakers' 'Shirt' 'Shorts' 'Coat'\n",
      " 'Handbag' 'Shoes' 'Dress' 'Skirt' 'Sunglasses' 'Pants' 'Jacket' 'Hoodie'\n",
      " 'Jewelry' 'T-shirt' 'Scarf' 'Hat' 'Socks' 'Backpack' 'Belt' 'Boots'\n",
      " 'Gloves']\n",
      "\n",
      "Таблица с частотой появлений букв: \n"
     ]
    },
    {
     "data": {
      "text/html": [
       "<div>\n",
       "<style scoped>\n",
       "    .dataframe tbody tr th:only-of-type {\n",
       "        vertical-align: middle;\n",
       "    }\n",
       "\n",
       "    .dataframe tbody tr th {\n",
       "        vertical-align: top;\n",
       "    }\n",
       "\n",
       "    .dataframe thead th {\n",
       "        text-align: right;\n",
       "    }\n",
       "</style>\n",
       "<table border=\"1\" class=\"dataframe\">\n",
       "  <thead>\n",
       "    <tr style=\"text-align: right;\">\n",
       "      <th></th>\n",
       "      <th>index</th>\n",
       "      <th>count</th>\n",
       "    </tr>\n",
       "  </thead>\n",
       "  <tbody>\n",
       "    <tr>\n",
       "      <th>0</th>\n",
       "      <td>a</td>\n",
       "      <td>15</td>\n",
       "    </tr>\n",
       "    <tr>\n",
       "      <th>1</th>\n",
       "      <td>b</td>\n",
       "      <td>5</td>\n",
       "    </tr>\n",
       "    <tr>\n",
       "      <th>2</th>\n",
       "      <td>c</td>\n",
       "      <td>6</td>\n",
       "    </tr>\n",
       "    <tr>\n",
       "      <th>3</th>\n",
       "      <td>d</td>\n",
       "      <td>4</td>\n",
       "    </tr>\n",
       "    <tr>\n",
       "      <th>4</th>\n",
       "      <td>e</td>\n",
       "      <td>15</td>\n",
       "    </tr>\n",
       "    <tr>\n",
       "      <th>5</th>\n",
       "      <td>f</td>\n",
       "      <td>1</td>\n",
       "    </tr>\n",
       "    <tr>\n",
       "      <th>6</th>\n",
       "      <td>g</td>\n",
       "      <td>3</td>\n",
       "    </tr>\n",
       "    <tr>\n",
       "      <th>7</th>\n",
       "      <td>h</td>\n",
       "      <td>7</td>\n",
       "    </tr>\n",
       "    <tr>\n",
       "      <th>8</th>\n",
       "      <td>i</td>\n",
       "      <td>4</td>\n",
       "    </tr>\n",
       "    <tr>\n",
       "      <th>9</th>\n",
       "      <td>j</td>\n",
       "      <td>3</td>\n",
       "    </tr>\n",
       "    <tr>\n",
       "      <th>10</th>\n",
       "      <td>k</td>\n",
       "      <td>6</td>\n",
       "    </tr>\n",
       "    <tr>\n",
       "      <th>11</th>\n",
       "      <td>l</td>\n",
       "      <td>6</td>\n",
       "    </tr>\n",
       "    <tr>\n",
       "      <th>12</th>\n",
       "      <td>m</td>\n",
       "      <td>0</td>\n",
       "    </tr>\n",
       "    <tr>\n",
       "      <th>13</th>\n",
       "      <td>n</td>\n",
       "      <td>6</td>\n",
       "    </tr>\n",
       "    <tr>\n",
       "      <th>14</th>\n",
       "      <td>o</td>\n",
       "      <td>10</td>\n",
       "    </tr>\n",
       "    <tr>\n",
       "      <th>15</th>\n",
       "      <td>p</td>\n",
       "      <td>2</td>\n",
       "    </tr>\n",
       "    <tr>\n",
       "      <th>16</th>\n",
       "      <td>q</td>\n",
       "      <td>0</td>\n",
       "    </tr>\n",
       "    <tr>\n",
       "      <th>17</th>\n",
       "      <td>r</td>\n",
       "      <td>9</td>\n",
       "    </tr>\n",
       "    <tr>\n",
       "      <th>18</th>\n",
       "      <td>s</td>\n",
       "      <td>26</td>\n",
       "    </tr>\n",
       "    <tr>\n",
       "      <th>19</th>\n",
       "      <td>t</td>\n",
       "      <td>12</td>\n",
       "    </tr>\n",
       "    <tr>\n",
       "      <th>20</th>\n",
       "      <td>u</td>\n",
       "      <td>2</td>\n",
       "    </tr>\n",
       "    <tr>\n",
       "      <th>21</th>\n",
       "      <td>v</td>\n",
       "      <td>1</td>\n",
       "    </tr>\n",
       "    <tr>\n",
       "      <th>22</th>\n",
       "      <td>w</td>\n",
       "      <td>2</td>\n",
       "    </tr>\n",
       "    <tr>\n",
       "      <th>23</th>\n",
       "      <td>x</td>\n",
       "      <td>0</td>\n",
       "    </tr>\n",
       "    <tr>\n",
       "      <th>24</th>\n",
       "      <td>y</td>\n",
       "      <td>1</td>\n",
       "    </tr>\n",
       "    <tr>\n",
       "      <th>25</th>\n",
       "      <td>z</td>\n",
       "      <td>0</td>\n",
       "    </tr>\n",
       "    <tr>\n",
       "      <th>26</th>\n",
       "      <td>-</td>\n",
       "      <td>1</td>\n",
       "    </tr>\n",
       "  </tbody>\n",
       "</table>\n",
       "</div>"
      ],
      "text/plain": [
       "   index  count\n",
       "0      a     15\n",
       "1      b      5\n",
       "2      c      6\n",
       "3      d      4\n",
       "4      e     15\n",
       "5      f      1\n",
       "6      g      3\n",
       "7      h      7\n",
       "8      i      4\n",
       "9      j      3\n",
       "10     k      6\n",
       "11     l      6\n",
       "12     m      0\n",
       "13     n      6\n",
       "14     o     10\n",
       "15     p      2\n",
       "16     q      0\n",
       "17     r      9\n",
       "18     s     26\n",
       "19     t     12\n",
       "20     u      2\n",
       "21     v      1\n",
       "22     w      2\n",
       "23     x      0\n",
       "24     y      1\n",
       "25     z      0\n",
       "26     -      1"
      ]
     },
     "execution_count": 985,
     "metadata": {},
     "output_type": "execute_result"
    }
   ],
   "source": [
    "import string\n",
    "\n",
    "arr_items = np.array(df['Item Purchased'].unique(), dtype = 'U')     # Выбираю уникальные названия элементов одежды\n",
    "arr_items_lower = np.char.lower(arr_items)     # Перевожу все в нижний регистр\n",
    "\n",
    "arr_chars = pd.Series(0, index = (i for i in string.ascii_lowercase))     # Создаю словарь всех символов (abcde...)\n",
    "arr_chars['-'] = 0     # Его тоже надо добавить в словарь\n",
    "arr_chars_df = pd.DataFrame(arr_chars)     # Формирую DataFrame, чтобы в конце можно было обратиться к символу в ключе\n",
    "arr_chars_df_rename = arr_chars_df.rename(columns = {0:'count'})     # Для удобства переименовываю столбик\n",
    "\n",
    "for item in arr_items_lower:     # Теперь пробегаемся по каждому слову и в словах по каждой букве, и добавляем по +1 при встрече конкретной букву в названиях вещей\n",
    "    for ch in item:\n",
    "        arr_chars_df_rename.loc[ch][0] += 1\n",
    "        \n",
    "result_df = arr_chars_df_rename.reset_index()\n",
    "max_count_index = result_df['count'].idxmax() \n",
    "print(f'Самая популярная буква в названии одежды: {result_df[\"index\"].iloc[max_count_index]}\\n')\n",
    "\n",
    "print(f\"Список названий товаров одежды: {df['Item Purchased'].unique()}\\n\")\n",
    "print('Таблица с частотой появлений букв: ')\n",
    "result_df"
   ]
  },
  {
   "cell_type": "markdown",
   "metadata": {
    "tags": []
   },
   "source": [
    "<h1>Задание 3</h1> \n",
    "\n",
    "У нас есть данные о потреблении алкоголя о потреблении Алкоголя в мире https://github.com/fivethirtyeight/data/tree/master/alcohol-consumption. \n",
    "\n",
    "Давайте представим эти данные в виде df, где же люди пьют больше вина, пива и других спиртных напитков."
   ]
  },
  {
   "cell_type": "markdown",
   "metadata": {
    "tags": []
   },
   "source": [
    "## **Решение**"
   ]
  },
  {
   "cell_type": "code",
   "execution_count": 986,
   "metadata": {
    "tags": []
   },
   "outputs": [
    {
     "data": {
      "text/html": [
       "<div>\n",
       "<style scoped>\n",
       "    .dataframe tbody tr th:only-of-type {\n",
       "        vertical-align: middle;\n",
       "    }\n",
       "\n",
       "    .dataframe tbody tr th {\n",
       "        vertical-align: top;\n",
       "    }\n",
       "\n",
       "    .dataframe thead th {\n",
       "        text-align: right;\n",
       "    }\n",
       "</style>\n",
       "<table border=\"1\" class=\"dataframe\">\n",
       "  <thead>\n",
       "    <tr style=\"text-align: right;\">\n",
       "      <th></th>\n",
       "      <th>beer_servings</th>\n",
       "      <th>spirit_servings</th>\n",
       "      <th>wine_servings</th>\n",
       "      <th>total_litres_of_pure_alcohol</th>\n",
       "    </tr>\n",
       "    <tr>\n",
       "      <th>country</th>\n",
       "      <th></th>\n",
       "      <th></th>\n",
       "      <th></th>\n",
       "      <th></th>\n",
       "    </tr>\n",
       "  </thead>\n",
       "  <tbody>\n",
       "    <tr>\n",
       "      <th>Afghanistan</th>\n",
       "      <td>0</td>\n",
       "      <td>0</td>\n",
       "      <td>0</td>\n",
       "      <td>0.0</td>\n",
       "    </tr>\n",
       "    <tr>\n",
       "      <th>Albania</th>\n",
       "      <td>89</td>\n",
       "      <td>132</td>\n",
       "      <td>54</td>\n",
       "      <td>4.9</td>\n",
       "    </tr>\n",
       "    <tr>\n",
       "      <th>Algeria</th>\n",
       "      <td>25</td>\n",
       "      <td>0</td>\n",
       "      <td>14</td>\n",
       "      <td>0.7</td>\n",
       "    </tr>\n",
       "    <tr>\n",
       "      <th>Andorra</th>\n",
       "      <td>245</td>\n",
       "      <td>138</td>\n",
       "      <td>312</td>\n",
       "      <td>12.4</td>\n",
       "    </tr>\n",
       "    <tr>\n",
       "      <th>Angola</th>\n",
       "      <td>217</td>\n",
       "      <td>57</td>\n",
       "      <td>45</td>\n",
       "      <td>5.9</td>\n",
       "    </tr>\n",
       "  </tbody>\n",
       "</table>\n",
       "</div>"
      ],
      "text/plain": [
       "             beer_servings  spirit_servings  wine_servings  \\\n",
       "country                                                      \n",
       "Afghanistan              0                0              0   \n",
       "Albania                 89              132             54   \n",
       "Algeria                 25                0             14   \n",
       "Andorra                245              138            312   \n",
       "Angola                 217               57             45   \n",
       "\n",
       "             total_litres_of_pure_alcohol  \n",
       "country                                    \n",
       "Afghanistan                           0.0  \n",
       "Albania                               4.9  \n",
       "Algeria                               0.7  \n",
       "Andorra                              12.4  \n",
       "Angola                                5.9  "
      ]
     },
     "execution_count": 986,
     "metadata": {},
     "output_type": "execute_result"
    }
   ],
   "source": [
    "url = 'https://raw.githubusercontent.com/PetrashkoLR/Wildberries/main/HW_PYTHON_2/drinks.csv'\n",
    "df_drinks = pd.read_csv(url, index_col = 0)\n",
    "df_drinks.head()"
   ]
  },
  {
   "cell_type": "code",
   "execution_count": 987,
   "metadata": {
    "tags": []
   },
   "outputs": [
    {
     "name": "stdout",
     "output_type": "stream",
     "text": [
      "Страны, где употребляют наибольший объем конкретного напитка: \n",
      "\n"
     ]
    },
    {
     "data": {
      "text/html": [
       "<div>\n",
       "<style scoped>\n",
       "    .dataframe tbody tr th:only-of-type {\n",
       "        vertical-align: middle;\n",
       "    }\n",
       "\n",
       "    .dataframe tbody tr th {\n",
       "        vertical-align: top;\n",
       "    }\n",
       "\n",
       "    .dataframe thead th {\n",
       "        text-align: right;\n",
       "    }\n",
       "</style>\n",
       "<table border=\"1\" class=\"dataframe\">\n",
       "  <thead>\n",
       "    <tr style=\"text-align: right;\">\n",
       "      <th></th>\n",
       "      <th>the best country</th>\n",
       "    </tr>\n",
       "  </thead>\n",
       "  <tbody>\n",
       "    <tr>\n",
       "      <th>beer_servings</th>\n",
       "      <td>Namibia</td>\n",
       "    </tr>\n",
       "    <tr>\n",
       "      <th>spirit_servings</th>\n",
       "      <td>Grenada</td>\n",
       "    </tr>\n",
       "    <tr>\n",
       "      <th>wine_servings</th>\n",
       "      <td>France</td>\n",
       "    </tr>\n",
       "    <tr>\n",
       "      <th>total_litres_of_pure_alcohol</th>\n",
       "      <td>Belarus</td>\n",
       "    </tr>\n",
       "  </tbody>\n",
       "</table>\n",
       "</div>"
      ],
      "text/plain": [
       "                             the best country\n",
       "beer_servings                         Namibia\n",
       "spirit_servings                       Grenada\n",
       "wine_servings                          France\n",
       "total_litres_of_pure_alcohol          Belarus"
      ]
     },
     "execution_count": 987,
     "metadata": {},
     "output_type": "execute_result"
    }
   ],
   "source": [
    "max_values_country = pd.DataFrame(df_drinks.idxmax()).rename(columns = {0:'the best country'})\n",
    "\n",
    "print('Страны, где употребляют наибольший объем конкретного напитка: \\n')\n",
    "max_values_country"
   ]
  },
  {
   "cell_type": "markdown",
   "metadata": {},
   "source": [
    "<h1>Задание 4</h1> \n",
    "\n",
    "У нас есть Полный каталог всех случаев, когда кто-то проклинал или истекал кровью в фильме Квентина Тарантино. https://github.com/fivethirtyeight/data/tree/master/tarantino\n",
    "\n",
    "Давайте представим эти данные в виде df и определим:\n",
    "\n",
    "- число проклятий, летальных исходов и их отношение по фильмам \n",
    "\n",
    "- частота употребления конкретных прокрятий \n",
    "\n",
    "- распределение времени между проклятиями "
   ]
  },
  {
   "cell_type": "markdown",
   "metadata": {
    "tags": []
   },
   "source": [
    "## **Решение**"
   ]
  },
  {
   "cell_type": "code",
   "execution_count": 988,
   "metadata": {
    "tags": []
   },
   "outputs": [
    {
     "data": {
      "text/html": [
       "<div>\n",
       "<style scoped>\n",
       "    .dataframe tbody tr th:only-of-type {\n",
       "        vertical-align: middle;\n",
       "    }\n",
       "\n",
       "    .dataframe tbody tr th {\n",
       "        vertical-align: top;\n",
       "    }\n",
       "\n",
       "    .dataframe thead th {\n",
       "        text-align: right;\n",
       "    }\n",
       "</style>\n",
       "<table border=\"1\" class=\"dataframe\">\n",
       "  <thead>\n",
       "    <tr style=\"text-align: right;\">\n",
       "      <th></th>\n",
       "      <th>type</th>\n",
       "      <th>word</th>\n",
       "      <th>minutes_in</th>\n",
       "    </tr>\n",
       "    <tr>\n",
       "      <th>movie</th>\n",
       "      <th></th>\n",
       "      <th></th>\n",
       "      <th></th>\n",
       "    </tr>\n",
       "  </thead>\n",
       "  <tbody>\n",
       "    <tr>\n",
       "      <th>Reservoir Dogs</th>\n",
       "      <td>word</td>\n",
       "      <td>dick</td>\n",
       "      <td>0.40</td>\n",
       "    </tr>\n",
       "    <tr>\n",
       "      <th>Reservoir Dogs</th>\n",
       "      <td>word</td>\n",
       "      <td>dicks</td>\n",
       "      <td>0.43</td>\n",
       "    </tr>\n",
       "    <tr>\n",
       "      <th>Reservoir Dogs</th>\n",
       "      <td>word</td>\n",
       "      <td>fucked</td>\n",
       "      <td>0.55</td>\n",
       "    </tr>\n",
       "    <tr>\n",
       "      <th>Reservoir Dogs</th>\n",
       "      <td>word</td>\n",
       "      <td>fucking</td>\n",
       "      <td>0.61</td>\n",
       "    </tr>\n",
       "    <tr>\n",
       "      <th>Reservoir Dogs</th>\n",
       "      <td>word</td>\n",
       "      <td>bullshit</td>\n",
       "      <td>0.61</td>\n",
       "    </tr>\n",
       "  </tbody>\n",
       "</table>\n",
       "</div>"
      ],
      "text/plain": [
       "                type      word  minutes_in\n",
       "movie                                     \n",
       "Reservoir Dogs  word      dick        0.40\n",
       "Reservoir Dogs  word     dicks        0.43\n",
       "Reservoir Dogs  word    fucked        0.55\n",
       "Reservoir Dogs  word   fucking        0.61\n",
       "Reservoir Dogs  word  bullshit        0.61"
      ]
     },
     "execution_count": 988,
     "metadata": {},
     "output_type": "execute_result"
    }
   ],
   "source": [
    "url = 'https://raw.githubusercontent.com/PetrashkoLR/Wildberries/main/HW_PYTHON_2/tarantino.csv'\n",
    "df_tarino = pd.read_csv(url, index_col = 0)\n",
    "df_tarino.head()"
   ]
  },
  {
   "cell_type": "markdown",
   "metadata": {
    "tags": []
   },
   "source": [
    "### Число проклятий, летальных исходов и их отношение по фильмам"
   ]
  },
  {
   "cell_type": "code",
   "execution_count": 989,
   "metadata": {
    "tags": []
   },
   "outputs": [
    {
     "name": "stdout",
     "output_type": "stream",
     "text": [
      "Таблица с фильмами и кол-вом в каждом из них смертей, проклятий, отношением этих величин, а также данные сразу по всем фильмам:\n"
     ]
    },
    {
     "data": {
      "text/html": [
       "<div>\n",
       "<style scoped>\n",
       "    .dataframe tbody tr th:only-of-type {\n",
       "        vertical-align: middle;\n",
       "    }\n",
       "\n",
       "    .dataframe tbody tr th {\n",
       "        vertical-align: top;\n",
       "    }\n",
       "\n",
       "    .dataframe thead th {\n",
       "        text-align: right;\n",
       "    }\n",
       "</style>\n",
       "<table border=\"1\" class=\"dataframe\">\n",
       "  <thead>\n",
       "    <tr style=\"text-align: right;\">\n",
       "      <th>type</th>\n",
       "      <th>death</th>\n",
       "      <th>word</th>\n",
       "      <th>(word / death)</th>\n",
       "    </tr>\n",
       "    <tr>\n",
       "      <th>movie</th>\n",
       "      <th></th>\n",
       "      <th></th>\n",
       "      <th></th>\n",
       "    </tr>\n",
       "  </thead>\n",
       "  <tbody>\n",
       "    <tr>\n",
       "      <th>Django Unchained</th>\n",
       "      <td>47</td>\n",
       "      <td>262</td>\n",
       "      <td>5.57</td>\n",
       "    </tr>\n",
       "    <tr>\n",
       "      <th>Inglorious Basterds</th>\n",
       "      <td>48</td>\n",
       "      <td>58</td>\n",
       "      <td>1.21</td>\n",
       "    </tr>\n",
       "    <tr>\n",
       "      <th>Jackie Brown</th>\n",
       "      <td>4</td>\n",
       "      <td>368</td>\n",
       "      <td>92.00</td>\n",
       "    </tr>\n",
       "    <tr>\n",
       "      <th>Kill Bill: Vol. 1</th>\n",
       "      <td>63</td>\n",
       "      <td>57</td>\n",
       "      <td>0.90</td>\n",
       "    </tr>\n",
       "    <tr>\n",
       "      <th>Kill Bill: Vol. 2</th>\n",
       "      <td>11</td>\n",
       "      <td>69</td>\n",
       "      <td>6.27</td>\n",
       "    </tr>\n",
       "    <tr>\n",
       "      <th>Pulp Fiction</th>\n",
       "      <td>7</td>\n",
       "      <td>469</td>\n",
       "      <td>67.00</td>\n",
       "    </tr>\n",
       "    <tr>\n",
       "      <th>Reservoir Dogs</th>\n",
       "      <td>10</td>\n",
       "      <td>421</td>\n",
       "      <td>42.10</td>\n",
       "    </tr>\n",
       "    <tr>\n",
       "      <th>All</th>\n",
       "      <td>190</td>\n",
       "      <td>1704</td>\n",
       "      <td>8.97</td>\n",
       "    </tr>\n",
       "  </tbody>\n",
       "</table>\n",
       "</div>"
      ],
      "text/plain": [
       "type                 death  word  (word / death)\n",
       "movie                                           \n",
       "Django Unchained        47   262            5.57\n",
       "Inglorious Basterds     48    58            1.21\n",
       "Jackie Brown             4   368           92.00\n",
       "Kill Bill: Vol. 1       63    57            0.90\n",
       "Kill Bill: Vol. 2       11    69            6.27\n",
       "Pulp Fiction             7   469           67.00\n",
       "Reservoir Dogs          10   421           42.10\n",
       "All                    190  1704            8.97"
      ]
     },
     "execution_count": 989,
     "metadata": {},
     "output_type": "execute_result"
    }
   ],
   "source": [
    "df_tarino_movies = df_tarino.groupby(['movie', 'type'])['type'].count().reset_index(name = 'count')     # Группирую по фильмам и типу события\n",
    "\n",
    "df_tarino_pivot_table = df_tarino_movies.pivot_table(\"count\", index=\"movie\", columns=\"type\", margins = True, aggfunc='sum') # Сводная таблица по фильмам\n",
    "df_tarino_pivot_table = df_tarino_pivot_table.drop('All', axis = 1)                                                         # Удаляю лишний столбик\n",
    "df_tarino_pivot_table['(word / death)'] = round(df_tarino_pivot_table['word']/df_tarino_pivot_table['death'],2)             # Доп. столбец с отношением величин\n",
    "\n",
    "print(\"Таблица с фильмами и кол-вом в каждом из них смертей, проклятий, отношением этих величин, а также данные сразу по всем фильмам:\")\n",
    "df_tarino_pivot_table"
   ]
  },
  {
   "cell_type": "markdown",
   "metadata": {
    "tags": []
   },
   "source": [
    "### Частота употребления конкретных прокрятий"
   ]
  },
  {
   "cell_type": "code",
   "execution_count": 990,
   "metadata": {
    "tags": []
   },
   "outputs": [
    {
     "name": "stdout",
     "output_type": "stream",
     "text": [
      "Таблица с проклятиями и частотой их употребления:\n"
     ]
    },
    {
     "data": {
      "text/html": [
       "<div>\n",
       "<style scoped>\n",
       "    .dataframe tbody tr th:only-of-type {\n",
       "        vertical-align: middle;\n",
       "    }\n",
       "\n",
       "    .dataframe tbody tr th {\n",
       "        vertical-align: top;\n",
       "    }\n",
       "\n",
       "    .dataframe thead th {\n",
       "        text-align: right;\n",
       "    }\n",
       "</style>\n",
       "<table border=\"1\" class=\"dataframe\">\n",
       "  <thead>\n",
       "    <tr style=\"text-align: right;\">\n",
       "      <th></th>\n",
       "      <th>word</th>\n",
       "      <th>frequency</th>\n",
       "    </tr>\n",
       "  </thead>\n",
       "  <tbody>\n",
       "    <tr>\n",
       "      <th>28</th>\n",
       "      <td>fucking</td>\n",
       "      <td>407</td>\n",
       "    </tr>\n",
       "    <tr>\n",
       "      <th>49</th>\n",
       "      <td>shit</td>\n",
       "      <td>221</td>\n",
       "    </tr>\n",
       "    <tr>\n",
       "      <th>22</th>\n",
       "      <td>fuck</td>\n",
       "      <td>213</td>\n",
       "    </tr>\n",
       "    <tr>\n",
       "      <th>46</th>\n",
       "      <td>n-word</td>\n",
       "      <td>179</td>\n",
       "    </tr>\n",
       "    <tr>\n",
       "      <th>0</th>\n",
       "      <td>ass</td>\n",
       "      <td>140</td>\n",
       "    </tr>\n",
       "    <tr>\n",
       "      <th>31</th>\n",
       "      <td>goddamn</td>\n",
       "      <td>113</td>\n",
       "    </tr>\n",
       "    <tr>\n",
       "      <th>43</th>\n",
       "      <td>motherfucker</td>\n",
       "      <td>70</td>\n",
       "    </tr>\n",
       "    <tr>\n",
       "      <th>7</th>\n",
       "      <td>bitch</td>\n",
       "      <td>64</td>\n",
       "    </tr>\n",
       "    <tr>\n",
       "      <th>35</th>\n",
       "      <td>hell</td>\n",
       "      <td>45</td>\n",
       "    </tr>\n",
       "    <tr>\n",
       "      <th>15</th>\n",
       "      <td>damn</td>\n",
       "      <td>37</td>\n",
       "    </tr>\n",
       "    <tr>\n",
       "      <th>45</th>\n",
       "      <td>motherfucking</td>\n",
       "      <td>27</td>\n",
       "    </tr>\n",
       "    <tr>\n",
       "      <th>23</th>\n",
       "      <td>fucked</td>\n",
       "      <td>25</td>\n",
       "    </tr>\n",
       "    <tr>\n",
       "      <th>44</th>\n",
       "      <td>motherfuckers</td>\n",
       "      <td>15</td>\n",
       "    </tr>\n",
       "    <tr>\n",
       "      <th>9</th>\n",
       "      <td>bullshit</td>\n",
       "      <td>15</td>\n",
       "    </tr>\n",
       "    <tr>\n",
       "      <th>17</th>\n",
       "      <td>dick</td>\n",
       "      <td>14</td>\n",
       "    </tr>\n",
       "    <tr>\n",
       "      <th>48</th>\n",
       "      <td>pussy</td>\n",
       "      <td>11</td>\n",
       "    </tr>\n",
       "    <tr>\n",
       "      <th>3</th>\n",
       "      <td>asshole</td>\n",
       "      <td>10</td>\n",
       "    </tr>\n",
       "    <tr>\n",
       "      <th>5</th>\n",
       "      <td>bastard</td>\n",
       "      <td>10</td>\n",
       "    </tr>\n",
       "    <tr>\n",
       "      <th>8</th>\n",
       "      <td>bitches</td>\n",
       "      <td>9</td>\n",
       "    </tr>\n",
       "    <tr>\n",
       "      <th>24</th>\n",
       "      <td>fucker</td>\n",
       "      <td>8</td>\n",
       "    </tr>\n",
       "    <tr>\n",
       "      <th>19</th>\n",
       "      <td>dicks</td>\n",
       "      <td>5</td>\n",
       "    </tr>\n",
       "    <tr>\n",
       "      <th>47</th>\n",
       "      <td>negro</td>\n",
       "      <td>5</td>\n",
       "    </tr>\n",
       "    <tr>\n",
       "      <th>4</th>\n",
       "      <td>assholes</td>\n",
       "      <td>5</td>\n",
       "    </tr>\n",
       "    <tr>\n",
       "      <th>55</th>\n",
       "      <td>shitty</td>\n",
       "      <td>4</td>\n",
       "    </tr>\n",
       "    <tr>\n",
       "      <th>1</th>\n",
       "      <td>asses</td>\n",
       "      <td>4</td>\n",
       "    </tr>\n",
       "    <tr>\n",
       "      <th>29</th>\n",
       "      <td>fucks</td>\n",
       "      <td>3</td>\n",
       "    </tr>\n",
       "    <tr>\n",
       "      <th>16</th>\n",
       "      <td>damned</td>\n",
       "      <td>3</td>\n",
       "    </tr>\n",
       "    <tr>\n",
       "      <th>50</th>\n",
       "      <td>shithead</td>\n",
       "      <td>3</td>\n",
       "    </tr>\n",
       "    <tr>\n",
       "      <th>37</th>\n",
       "      <td>horseshit</td>\n",
       "      <td>2</td>\n",
       "    </tr>\n",
       "    <tr>\n",
       "      <th>40</th>\n",
       "      <td>japs</td>\n",
       "      <td>2</td>\n",
       "    </tr>\n",
       "    <tr>\n",
       "      <th>34</th>\n",
       "      <td>gooks</td>\n",
       "      <td>2</td>\n",
       "    </tr>\n",
       "    <tr>\n",
       "      <th>52</th>\n",
       "      <td>shitload</td>\n",
       "      <td>2</td>\n",
       "    </tr>\n",
       "    <tr>\n",
       "      <th>59</th>\n",
       "      <td>wetback</td>\n",
       "      <td>2</td>\n",
       "    </tr>\n",
       "    <tr>\n",
       "      <th>13</th>\n",
       "      <td>cunt</td>\n",
       "      <td>2</td>\n",
       "    </tr>\n",
       "    <tr>\n",
       "      <th>12</th>\n",
       "      <td>cocksucker</td>\n",
       "      <td>2</td>\n",
       "    </tr>\n",
       "    <tr>\n",
       "      <th>33</th>\n",
       "      <td>gook</td>\n",
       "      <td>1</td>\n",
       "    </tr>\n",
       "    <tr>\n",
       "      <th>58</th>\n",
       "      <td>squaw</td>\n",
       "      <td>1</td>\n",
       "    </tr>\n",
       "    <tr>\n",
       "      <th>57</th>\n",
       "      <td>slut</td>\n",
       "      <td>1</td>\n",
       "    </tr>\n",
       "    <tr>\n",
       "      <th>56</th>\n",
       "      <td>slope</td>\n",
       "      <td>1</td>\n",
       "    </tr>\n",
       "    <tr>\n",
       "      <th>2</th>\n",
       "      <td>asshead</td>\n",
       "      <td>1</td>\n",
       "    </tr>\n",
       "    <tr>\n",
       "      <th>54</th>\n",
       "      <td>shitting</td>\n",
       "      <td>1</td>\n",
       "    </tr>\n",
       "    <tr>\n",
       "      <th>53</th>\n",
       "      <td>shittiest</td>\n",
       "      <td>1</td>\n",
       "    </tr>\n",
       "    <tr>\n",
       "      <th>6</th>\n",
       "      <td>bastards</td>\n",
       "      <td>1</td>\n",
       "    </tr>\n",
       "    <tr>\n",
       "      <th>51</th>\n",
       "      <td>shitless</td>\n",
       "      <td>1</td>\n",
       "    </tr>\n",
       "    <tr>\n",
       "      <th>10</th>\n",
       "      <td>chickenshit</td>\n",
       "      <td>1</td>\n",
       "    </tr>\n",
       "    <tr>\n",
       "      <th>11</th>\n",
       "      <td>cockblockery</td>\n",
       "      <td>1</td>\n",
       "    </tr>\n",
       "    <tr>\n",
       "      <th>14</th>\n",
       "      <td>cunts</td>\n",
       "      <td>1</td>\n",
       "    </tr>\n",
       "    <tr>\n",
       "      <th>32</th>\n",
       "      <td>goddamned</td>\n",
       "      <td>1</td>\n",
       "    </tr>\n",
       "    <tr>\n",
       "      <th>18</th>\n",
       "      <td>dickless</td>\n",
       "      <td>1</td>\n",
       "    </tr>\n",
       "    <tr>\n",
       "      <th>20</th>\n",
       "      <td>dumbass</td>\n",
       "      <td>1</td>\n",
       "    </tr>\n",
       "    <tr>\n",
       "      <th>21</th>\n",
       "      <td>faggot</td>\n",
       "      <td>1</td>\n",
       "    </tr>\n",
       "    <tr>\n",
       "      <th>42</th>\n",
       "      <td>merde</td>\n",
       "      <td>1</td>\n",
       "    </tr>\n",
       "    <tr>\n",
       "      <th>41</th>\n",
       "      <td>jew (verb)</td>\n",
       "      <td>1</td>\n",
       "    </tr>\n",
       "    <tr>\n",
       "      <th>25</th>\n",
       "      <td>fuckers</td>\n",
       "      <td>1</td>\n",
       "    </tr>\n",
       "    <tr>\n",
       "      <th>39</th>\n",
       "      <td>jap</td>\n",
       "      <td>1</td>\n",
       "    </tr>\n",
       "    <tr>\n",
       "      <th>38</th>\n",
       "      <td>jackass</td>\n",
       "      <td>1</td>\n",
       "    </tr>\n",
       "    <tr>\n",
       "      <th>26</th>\n",
       "      <td>fuckface</td>\n",
       "      <td>1</td>\n",
       "    </tr>\n",
       "    <tr>\n",
       "      <th>36</th>\n",
       "      <td>horeshit</td>\n",
       "      <td>1</td>\n",
       "    </tr>\n",
       "    <tr>\n",
       "      <th>27</th>\n",
       "      <td>fuckhead</td>\n",
       "      <td>1</td>\n",
       "    </tr>\n",
       "    <tr>\n",
       "      <th>30</th>\n",
       "      <td>fuckup</td>\n",
       "      <td>1</td>\n",
       "    </tr>\n",
       "  </tbody>\n",
       "</table>\n",
       "</div>"
      ],
      "text/plain": [
       "             word  frequency\n",
       "28        fucking        407\n",
       "49           shit        221\n",
       "22           fuck        213\n",
       "46        n-word         179\n",
       "0             ass        140\n",
       "31        goddamn        113\n",
       "43   motherfucker         70\n",
       "7           bitch         64\n",
       "35           hell         45\n",
       "15           damn         37\n",
       "45  motherfucking         27\n",
       "23         fucked         25\n",
       "44  motherfuckers         15\n",
       "9        bullshit         15\n",
       "17           dick         14\n",
       "48          pussy         11\n",
       "3         asshole         10\n",
       "5         bastard         10\n",
       "8         bitches          9\n",
       "24         fucker          8\n",
       "19          dicks          5\n",
       "47         negro           5\n",
       "4        assholes          5\n",
       "55         shitty          4\n",
       "1           asses          4\n",
       "29          fucks          3\n",
       "16         damned          3\n",
       "50       shithead          3\n",
       "37      horseshit          2\n",
       "40           japs          2\n",
       "34          gooks          2\n",
       "52       shitload          2\n",
       "59        wetback          2\n",
       "13           cunt          2\n",
       "12     cocksucker          2\n",
       "33           gook          1\n",
       "58          squaw          1\n",
       "57           slut          1\n",
       "56          slope          1\n",
       "2         asshead          1\n",
       "54       shitting          1\n",
       "53      shittiest          1\n",
       "6        bastards          1\n",
       "51       shitless          1\n",
       "10    chickenshit          1\n",
       "11   cockblockery          1\n",
       "14          cunts          1\n",
       "32      goddamned          1\n",
       "18       dickless          1\n",
       "20        dumbass          1\n",
       "21         faggot          1\n",
       "42          merde          1\n",
       "41     jew (verb)          1\n",
       "25        fuckers          1\n",
       "39            jap          1\n",
       "38        jackass          1\n",
       "26       fuckface          1\n",
       "36       horeshit          1\n",
       "27       fuckhead          1\n",
       "30         fuckup          1"
      ]
     },
     "execution_count": 990,
     "metadata": {},
     "output_type": "execute_result"
    }
   ],
   "source": [
    "df_tarino_curses = df_tarino.groupby(['word'])['word'].count().reset_index(name = 'frequency')     # Группирую по словам - проклятиям\n",
    "df_tarino_curses = df_tarino_curses.sort_values(['frequency'], ascending = False)                  # Сортировка по убыванию частоты\n",
    "\n",
    "print(\"Таблица с проклятиями и частотой их употребления:\")\n",
    "df_tarino_curses"
   ]
  },
  {
   "cell_type": "markdown",
   "metadata": {
    "tags": []
   },
   "source": [
    "### Распределение времени между проклятиями"
   ]
  },
  {
   "cell_type": "code",
   "execution_count": 991,
   "metadata": {
    "tags": []
   },
   "outputs": [
    {
     "data": {
      "image/png": "[encoded data removed]",
      "text/plain": [
       "<Figure size 640x480 with 1 Axes>"
      ]
     },
     "metadata": {},
     "output_type": "display_data"
    },
    {
     "data": {
      "image/png": "[encoded data removed]",
      "text/plain": [
       "<Figure size 640x480 with 1 Axes>"
      ]
     },
     "metadata": {},
     "output_type": "display_data"
    },
    {
     "data": {
      "image/png": "[encoded data removed]",
      "text/plain": [
       "<Figure size 640x480 with 1 Axes>"
      ]
     },
     "metadata": {},
     "output_type": "display_data"
    },
    {
     "data": {
      "image/png": "[encoded data removed]",
      "text/plain": [
       "<Figure size 640x480 with 1 Axes>"
      ]
     },
     "metadata": {},
     "output_type": "display_data"
    },
    {
     "data": {
      "image/png": "[encoded data removed]",
      "text/plain": [
       "<Figure size 640x480 with 1 Axes>"
      ]
     },
     "metadata": {},
     "output_type": "display_data"
    },
    {
     "data": {
      "image/png": "[encoded data removed]",
      "text/plain": [
       "<Figure size 640x480 with 1 Axes>"
      ]
     },
     "metadata": {},
     "output_type": "display_data"
    },
    {
     "data": {
      "image/png": "[encoded data removed]",
      "text/plain": [
       "<Figure size 640x480 with 1 Axes>"
      ]
     },
     "metadata": {},
     "output_type": "display_data"
    }
   ],
   "source": [
    "df_tarino_minutes = pd.DataFrame(df_tarino[df_tarino['type'] == 'word']['minutes_in'])     # Отбираю только те времена, которые соответствуют проклятиям\n",
    "df_tarino_minutes = df_tarino_minutes.reset_index()\n",
    "\n",
    "movies = df_tarino.reset_index()['movie'].unique()     # Уникальные названия фильмов\n",
    "for mov in movies:\n",
    "    # Создаю условно две матрицы с одинаковыми размерами, где в первой матрице (до) отсутствует последняя строка, а во второй - последняя\n",
    "    # Затем эти таблицы вычитаются и получается таблица (для конкретного фильма) с разницами времен\n",
    "    minutes_do = df_tarino_minutes[df_tarino_minutes['movie'] == mov].iloc[:-1,:].reset_index().drop('index', axis = 1)\n",
    "    minutes_posle = df_tarino_minutes[df_tarino_minutes['movie'] == mov].iloc[1:,:].reset_index().drop('index', axis = 1)\n",
    "    \n",
    "    result = pd.DataFrame(minutes_posle['minutes_in'].subtract(minutes_do['minutes_in']))\n",
    "    result.plot.hist(bins = 50, grid = True, legend = False, xlabel = \"Time, minute\", ylabel = \"Number of curses\", title = f\"[{mov}] Distribution of time intervals between two curses in film\", alpha=1, edgecolor='black')\n"
   ]
  },
  {
   "cell_type": "code",
   "execution_count": null,
   "metadata": {},
   "outputs": [],
   "source": []
  },
  {
   "cell_type": "code",
   "execution_count": null,
   "metadata": {},
   "outputs": [],
   "source": []
  },
  {
   "cell_type": "code",
   "execution_count": null,
   "metadata": {},
   "outputs": [],
   "source": []
  },
  {
   "cell_type": "code",
   "execution_count": null,
   "metadata": {},
   "outputs": [],
   "source": []
  }
 ],
 "metadata": {
  "kernelspec": {
   "display_name": "Python 3 (ipykernel)",
   "language": "python",
   "name": "python3"
  },
  "language_info": {
   "codemirror_mode": {
    "name": "ipython",
    "version": 3
   },
   "file_extension": ".py",
   "mimetype": "text/x-python",
   "name": "python",
   "nbconvert_exporter": "python",
   "pygments_lexer": "ipython3",
   "version": "3.11.5"
  }
 },
 "nbformat": 4,
 "nbformat_minor": 4
}
