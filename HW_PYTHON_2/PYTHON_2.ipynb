{
 "cells": [
  {
   "cell_type": "markdown",
   "id": "30eced5f-c99e-405a-80fa-e0119ae5b72b",
   "metadata": {
    "jp-MarkdownHeadingCollapsed": true,
    "tags": []
   },
   "source": [
    "# **Задание 1**"
   ]
  },
  {
   "cell_type": "code",
   "execution_count": 18,
   "id": "7433c4b9-a288-47bd-a8b2-cd6dc7230ec8",
   "metadata": {
    "tags": []
   },
   "outputs": [],
   "source": [
    "import numpy as np\n",
    "import random\n",
    "\n",
    "variant = 17"
   ]
  },
  {
   "cell_type": "code",
   "execution_count": 19,
   "id": "9fbd477c-f104-4710-881c-fc5975c5fb16",
   "metadata": {
    "tags": []
   },
   "outputs": [
    {
     "name": "stdout",
     "output_type": "stream",
     "text": [
      "[61, 48, 55, 37, 37, 45, 84, 85, 64, 58, 63, 72, 52, 18, 43, 43, 41, 46, 105, 92]\n",
      "[98, 90, 62, 81, 71, 116, 116, 110, 94, 71, 90, 69, 112, 61, 53, 72, 71, 95, 24, 37]\n",
      "[98, 68, 54, 85, 107, 40, 101, 23, 51, 46, 116, 110, 112, 18, 83, 92, 60, 88, 71, 76]\n",
      "[36, 96, 28, 24, 58, 82, 31, 65, 44, 85, 39, 107, 51, 20, 102, 94, 114, 26, 86, 74]\n"
     ]
    }
   ],
   "source": [
    "sales = []\n",
    "\n",
    "for i in range(4):\n",
    "    sales.append([random.randint(variant, variant+100) for j in range(100000)])\n",
    "\n",
    "for i in range(4):\n",
    "    print(sales[i][:20]) # 1-ая строка => 'автомобиль HAVAL', 2-ая => 'обувь', 3-ья => 'одежда', 4-ая => 'телефоны'"
   ]
  },
  {
   "cell_type": "markdown",
   "id": "ffa52b76-d0b1-4440-9a76-f6438435c566",
   "metadata": {
    "tags": []
   },
   "source": [
    "## Общие параметры\n"
   ]
  },
  {
   "cell_type": "markdown",
   "id": "af4d46a5-5d6e-4fb9-a244-6bdaa81c2fef",
   "metadata": {},
   "source": [
    "## Решение через Python"
   ]
  },
  {
   "cell_type": "code",
   "execution_count": 20,
   "id": "147b2d28-4776-4a7e-925a-bc487798d3f7",
   "metadata": {
    "tags": []
   },
   "outputs": [],
   "source": [
    "products = ['автомобиль HAVAL', 'обувь', 'одежда', 'телефоны']\n",
    "prices = [20000, 3000, 45600, 5000]\n",
    "\n",
    "revenue_py = []"
   ]
  },
  {
   "cell_type": "code",
   "execution_count": 21,
   "id": "968025d5-90b8-456a-b9c4-d7c944dcf9f1",
   "metadata": {
    "tags": []
   },
   "outputs": [],
   "source": [
    "def revenue_from_sales_py(arr):\n",
    "    revenue = []\n",
    "    \n",
    "    for i in range(4):\n",
    "        number_sales_product = 0\n",
    "        for j in range(100000):\n",
    "            number_sales_product += arr[i][j]\n",
    "        revenue.append(number_sales_product * prices[i])\n",
    "        \n",
    "    return revenue"
   ]
  },
  {
   "cell_type": "code",
   "execution_count": 22,
   "id": "5b6f6422-72b0-4534-8480-f6901fa07315",
   "metadata": {
    "tags": []
   },
   "outputs": [
    {
     "name": "stdout",
     "output_type": "stream",
     "text": [
      "20.3 ms ± 1.21 ms per loop (mean ± std. dev. of 7 runs, 10 loops each)\n"
     ]
    }
   ],
   "source": [
    "%timeit revenue_py = revenue_from_sales_py(sales)\n",
    "# время работы кода на python"
   ]
  },
  {
   "cell_type": "code",
   "execution_count": 23,
   "id": "cbd71e08-91a3-4b3c-83db-56b6f08ba739",
   "metadata": {
    "tags": []
   },
   "outputs": [
    {
     "name": "stdout",
     "output_type": "stream",
     "text": [
      "автомобиль HAVAL: 134,300,440,000\n",
      "обувь: 20,131,320,000\n",
      "одежда: 305,600,438,400\n",
      "телефоны: 33,480,445,000\n"
     ]
    }
   ],
   "source": [
    "revenue_py = revenue_from_sales_py(sales)\n",
    "for i in range(4):\n",
    "    print(f\"{products[i]}: \", end=\"\")\n",
    "    print(\"{:,}\".format(revenue_py[i]))  "
   ]
  },
  {
   "cell_type": "markdown",
   "id": "e3e6a4b9-8950-4806-beae-507ff62606b6",
   "metadata": {
    "tags": []
   },
   "source": [
    "## Решение через NumPy"
   ]
  },
  {
   "cell_type": "code",
   "execution_count": 24,
   "id": "8752c331-31eb-4a4c-8923-b2f476e806bc",
   "metadata": {
    "tags": []
   },
   "outputs": [],
   "source": [
    "products = np.array(['автомобиль HAVAL', 'обувь', 'одежда', 'телефоны'])\n",
    "prices = np.array([20000, 3000, 45600, 5000])\n",
    "sales = np.array(sales)\n",
    "\n",
    "revenue_sales_np = []"
   ]
  },
  {
   "cell_type": "code",
   "execution_count": 25,
   "id": "be9b4bdb-b139-472d-a897-a760197f264b",
   "metadata": {
    "tags": []
   },
   "outputs": [],
   "source": [
    "def revenue_from_sales_np(arr):\n",
    "    revenue = []\n",
    "    \n",
    "    for i in range(4):\n",
    "        number_sales_product = np.sum(sales[i])\n",
    "        revenue.append(number_sales_product * prices[i])\n",
    "        \n",
    "    return revenue"
   ]
  },
  {
   "cell_type": "code",
   "execution_count": 26,
   "id": "bf946456-1d31-4caa-8e6a-a02033cd49e1",
   "metadata": {
    "tags": []
   },
   "outputs": [
    {
     "name": "stdout",
     "output_type": "stream",
     "text": [
      "79.1 µs ± 1 µs per loop (mean ± std. dev. of 7 runs, 10,000 loops each)\n"
     ]
    }
   ],
   "source": [
    "%timeit revenue_np = revenue_from_sales_np(sales)\n",
    "# время работы кода на numpy"
   ]
  },
  {
   "cell_type": "code",
   "execution_count": 27,
   "id": "ef73792d-9df6-4181-bf53-faf370052000",
   "metadata": {},
   "outputs": [
    {
     "name": "stdout",
     "output_type": "stream",
     "text": [
      "автомобиль HAVAL: 134,300,440,000\n",
      "обувь: 20,131,320,000\n",
      "одежда: 305,600,438,400\n",
      "телефоны: 33,480,445,000\n"
     ]
    }
   ],
   "source": [
    "revenue_np = revenue_from_sales_np(sales)\n",
    "for i in range(4):\n",
    "    print(f\"{products[i]}: \", end=\"\")\n",
    "    print(\"{:,}\".format(revenue_np[i]))  "
   ]
  },
  {
   "cell_type": "markdown",
   "id": "3de594cf-3e62-4625-bcc5-5d09f11a2127",
   "metadata": {},
   "source": [
    "## Решение через Numpy с использованием векторизации"
   ]
  },
  {
   "cell_type": "code",
   "execution_count": 28,
   "id": "54a5b811-1334-446a-b6a2-4309e80e5b20",
   "metadata": {
    "tags": []
   },
   "outputs": [],
   "source": [
    "products = np.array(['автомобиль HAVAL', 'обувь', 'одежда', 'телефоны'])\n",
    "prices = np.array([20000, 3000, 45600, 5000])\n",
    "sales = np.array(sales)\n",
    "\n",
    "revenue_sales_np_vec = []"
   ]
  },
  {
   "cell_type": "code",
   "execution_count": 29,
   "id": "97504d01-a370-4c39-8bae-6a3a6f1b31f8",
   "metadata": {
    "tags": []
   },
   "outputs": [],
   "source": [
    "def revenue_from_sales_np_vec(arr):\n",
    "    number_sales_product = np.sum(sales, axis = 1) * prices\n",
    "    #revenue = number_sales_product * prices[i]\n",
    "        \n",
    "    return number_sales_product"
   ]
  },
  {
   "cell_type": "code",
   "execution_count": 30,
   "id": "bb99756c-2778-401d-8de5-261b8d01183a",
   "metadata": {
    "tags": []
   },
   "outputs": [
    {
     "name": "stdout",
     "output_type": "stream",
     "text": [
      "63.5 µs ± 1.31 µs per loop (mean ± std. dev. of 7 runs, 10,000 loops each)\n"
     ]
    }
   ],
   "source": [
    "%timeit revenue_np_vec = revenue_from_sales_np_vec(sales)\n",
    "# время работы кода на numpy с использованием векторизации\n"
   ]
  },
  {
   "cell_type": "code",
   "execution_count": 31,
   "id": "d982dc6c-47dd-403a-a5f3-05d3343619c8",
   "metadata": {
    "tags": []
   },
   "outputs": [
    {
     "name": "stdout",
     "output_type": "stream",
     "text": [
      "автомобиль HAVAL: 134,300,440,000\n",
      "обувь: 20,131,320,000\n",
      "одежда: 305,600,438,400\n",
      "телефоны: 33,480,445,000\n"
     ]
    }
   ],
   "source": [
    "revenue_np_vec = revenue_from_sales_np_vec(sales)\n",
    "for i in range(4):\n",
    "    print(f\"{products[i]}: \", end=\"\")\n",
    "    print(\"{:,}\".format(revenue_np[i]))"
   ]
  },
  {
   "cell_type": "markdown",
   "id": "193baf2d-88a0-44e7-a9c3-949fb25f4b39",
   "metadata": {},
   "source": [
    "## Сравнение\n"
   ]
  },
  {
   "cell_type": "code",
   "execution_count": 32,
   "id": "304b4ae6-752d-4e91-8b65-c55ef7c9e674",
   "metadata": {
    "tags": []
   },
   "outputs": [
    {
     "name": "stdout",
     "output_type": "stream",
     "text": [
      "Python = 94.9 ms ± 1.08 ms per loop (mean ± std. dev. of 7 runs, 10 loops each)\n",
      "NumPy = 76.5 µs ± 713 ns per loop (mean ± std. dev. of 7 runs, 10,000 loops each)\n",
      "NumPy vec = 65 µs ± 987 ns per loop (mean ± std. dev. of 7 runs, 10,000 loops each)\n"
     ]
    }
   ],
   "source": [
    "print(\"Python = \", end=\"\")\n",
    "%timeit revenue_py = revenue_from_sales_py(sales)\n",
    "# время работы кода на python\n",
    "\n",
    "print(\"NumPy = \", end=\"\")\n",
    "%timeit revenue_np = revenue_from_sales_np(sales)\n",
    "# время работы кода на numpy\n",
    "\n",
    "print(\"NumPy vec = \", end=\"\")\n",
    "%timeit revenue_np_vec = revenue_from_sales_np_vec(sales)\n",
    "# время работы кода на numpy с использованием векторизации"
   ]
  },
  {
   "cell_type": "code",
   "execution_count": 33,
   "id": "4f880f07-74be-4542-b086-e2f62b59281c",
   "metadata": {
    "tags": []
   },
   "outputs": [
    {
     "name": "stdout",
     "output_type": "stream",
     "text": [
      "Вывод категорий товаров по возрастанию дохода: \n",
      "\n",
      "обувь: 20,131,320,000\n",
      "телефоны: 33,480,445,000\n",
      "автомобиль HAVAL: 134,300,440,000\n",
      "одежда: 305,600,438,400\n"
     ]
    }
   ],
   "source": [
    "x = np.arange(4)\n",
    "new = np.vstack([x,revenue_py])\n",
    "sorted_array = np.sort(revenue_py)\n",
    "\n",
    "print(\"Вывод категорий товаров по возрастанию дохода: \\n\")\n",
    "for ar in sorted_array:\n",
    "    for i in range(4):\n",
    "        if ar == new[1][i]:\n",
    "            print(f\"{products[i]}: \", end=\"\")\n",
    "            print(\"{:,}\".format(new[1][i]))"
   ]
  },
  {
   "cell_type": "markdown",
   "id": "0cb20c12-fc43-49d8-8adc-735bde374911",
   "metadata": {
    "tags": []
   },
   "source": [
    "# **Задание 2**"
   ]
  },
  {
   "cell_type": "markdown",
   "id": "488720eb-5349-4dea-973e-b2f25d6d5b95",
   "metadata": {},
   "source": [
    "## Реализация heapsort"
   ]
  },
  {
   "cell_type": "code",
   "execution_count": 34,
   "id": "5248dfac-e7c7-47cc-94c1-49c8e906e18a",
   "metadata": {
    "tags": []
   },
   "outputs": [],
   "source": [
    "def heap_with_maxi_root(arr, i, max_index): # Пишем алгоритм по созданию двоичного дерева, в корне которого будет максимальный элемент\n",
    "    \n",
    "    node = i # Индекс текущего узелка\n",
    "    l = 2 * i + 1 # Левый дочерний узел двоичного дерева у элемента с индексом i\n",
    "    r = 2 * i + 2 # Правый дочерний узел\n",
    "    \n",
    "    \n",
    "    # Посмотрим, существует ли левый дочерний узел у текущего элемента\n",
    "    # и проверим, будет ли он больше по величене, чем текущий элемент\n",
    "    if l < max_index and arr[node] < arr[l]:\n",
    "        node = l # Сдвигаем наш указатель дальше\n",
    "   \n",
    "\n",
    "    # Аналогично с правым дочерним узлом\n",
    "    if r < max_index and arr[node] < arr[r]:\n",
    "        node = r # Сдвигаем наш указатель дальше\n",
    "        \n",
    "        \n",
    "    # Если указатель не на текущем элементе, т.е. если среди дочерних элементов нашелся такой, который больше по значению, чем текущий, то свапаем их    \n",
    "    if node != i: \n",
    "        arr[i], arr[node] = arr[node], arr[i]\n",
    "        \n",
    "        # Пока условие выполняется, т.е. данный кусочек дерева (который ниже i) неотсортирован, продолжаем его выстраивать под концепцию двоичного дерева с бОльшими родительскими узлами\n",
    "        heap_with_maxi_root(arr, node, max_index)\n",
    "\n",
    "        \n",
    "        \n",
    "def heap_sort(arr):\n",
    "    \n",
    "    max_index = len(arr)\n",
    " \n",
    "    # Выстраиваем дерево с максимальной вершиной\n",
    "    for i in range(max_index//2 - 1, -1, -1):\n",
    "        heap_with_maxi_root(arr, i, max_index)\n",
    " \n",
    "    # \"Вырезаем\" вершину отсортированного дерева и свапаем последний элемент списка(из тех, что еще неотсортированы) с вершиной\n",
    "    for i in range(max_index - 1, 0, -1):\n",
    "        arr[i], arr[0] = arr[0], arr[i] \n",
    "        heap_with_maxi_root(arr, 0, i) # Заново сортируем после swap\n",
    "        "
   ]
  },
  {
   "cell_type": "code",
   "execution_count": 35,
   "id": "87c887fe-436d-4177-bfa2-cab57f339ed4",
   "metadata": {
    "tags": []
   },
   "outputs": [
    {
     "name": "stdout",
     "output_type": "stream",
     "text": [
      "[50 84 59 ... 33 60 75]\n"
     ]
    }
   ],
   "source": [
    "array = np.random.randint(100, size = variant * 100).astype(int)\n",
    "print(array)"
   ]
  },
  {
   "cell_type": "code",
   "execution_count": 36,
   "id": "feede0eb-c442-4478-abc4-87cb35e57cf7",
   "metadata": {
    "tags": []
   },
   "outputs": [
    {
     "name": "stdout",
     "output_type": "stream",
     "text": [
      "11.9 ms ± 307 µs per loop (mean ± std. dev. of 7 runs, 100 loops each)\n"
     ]
    }
   ],
   "source": [
    "%%timeit\n",
    "heap_sort(array)"
   ]
  },
  {
   "cell_type": "code",
   "execution_count": 37,
   "id": "d4b33075-d1f4-453f-a66e-dbae63db5b82",
   "metadata": {
    "tags": []
   },
   "outputs": [
    {
     "name": "stdout",
     "output_type": "stream",
     "text": [
      "length = 1700\n",
      "[ 0  0  0 ... 99 99 99]\n"
     ]
    }
   ],
   "source": [
    "# Отсортированный массив\n",
    "print(f\"length = {len(array)}\")\n",
    "print(array)\n"
   ]
  },
  {
   "cell_type": "markdown",
   "id": "0711cda6-df3b-49b4-b725-9f22344336d1",
   "metadata": {},
   "source": [
    "## Реализация heapsort на Python"
   ]
  },
  {
   "cell_type": "code",
   "execution_count": 39,
   "id": "eb560693-6697-4c83-b1f6-b79960d77911",
   "metadata": {
    "tags": []
   },
   "outputs": [
    {
     "name": "stdout",
     "output_type": "stream",
     "text": [
      "[46, 21, 94, 13, 1, 107, 5, 108, 22, 98, 32, 19, 58, 91, 101, 98, 39, 7, 29, 68]\n"
     ]
    }
   ],
   "source": [
    "array_2 = [random.randint(0, variant+100) for i in range(variant*100)]\n",
    "print(array_2[:20])"
   ]
  },
  {
   "cell_type": "code",
   "execution_count": 40,
   "id": "80bfbc0a-52ec-4299-bb23-54ec6d1869e7",
   "metadata": {
    "tags": []
   },
   "outputs": [],
   "source": [
    "def max_heapify(arr,n,i):\n",
    "    l = 2 * i + 1\n",
    "    r = 2 * i + 2\n",
    " \n",
    "    if l < n and arr[l] > arr[i]:\n",
    "        largest = l\n",
    "    else:\n",
    "        largest = i\n",
    " \n",
    "    if r < n and arr[r] > arr[largest]:\n",
    "        largest = r\n",
    " \n",
    "    if largest != i:\n",
    "        arr[i], arr[largest] = arr[largest], arr[i]\n",
    "        max_heapify(arr, n, largest)\n",
    "\n",
    "\n",
    "def build_heap(arr):\n",
    "    n = len(arr)\n",
    " \n",
    "    for i in range(n, -1,-1):\n",
    "        max_heapify(arr, n, i)\n",
    " \n",
    "    for i in range(n-1,0,-1):\n",
    "        arr[0] ,arr[i] = arr[i], arr[0]\n",
    "        max_heapify(arr, i, 0)"
   ]
  },
  {
   "cell_type": "code",
   "execution_count": 41,
   "id": "1f54c647-1c90-4826-a43e-a8ce216a41b3",
   "metadata": {
    "tags": []
   },
   "outputs": [
    {
     "name": "stdout",
     "output_type": "stream",
     "text": [
      "3.32 ms ± 158 µs per loop (mean ± std. dev. of 7 runs, 100 loops each)\n"
     ]
    }
   ],
   "source": [
    "%%timeit\n",
    "build_heap(array_2)"
   ]
  },
  {
   "cell_type": "code",
   "execution_count": 43,
   "id": "2a2ada92-b894-439f-8d90-0ca1197ca799",
   "metadata": {
    "tags": []
   },
   "outputs": [
    {
     "name": "stdout",
     "output_type": "stream",
     "text": [
      "length = 1700\n",
      "[0, 0, 0, 0, 0, 0, 0, 0, 0, 0, 0, 0, 0, 0, 0, 0, 1, 1, 1, 1, 1, 1, 1, 1, 1, 1, 1, 1, 1, 1, 1, 1, 1, 1, 1, 1, 1, 2, 2, 2, 2, 2, 2, 2, 2, 2, 2, 2, 2, 2, 2, 2, 3, 3, 3, 3, 3, 3, 3, 3, 3, 3, 3, 3, 3, 3, 4, 4, 4, 4, 4, 4, 4, 4, 4, 5, 5, 5, 5, 5, 5, 5, 5, 5, 5, 5, 5, 5, 5, 5, 5, 5, 5, 5, 6, 6, 6, 6, 6, 6]\n"
     ]
    }
   ],
   "source": [
    "# Отсортированный массив\n",
    "print(f\"length = {len(array_2)}\")\n",
    "print(array_2[:100])"
   ]
  },
  {
   "cell_type": "markdown",
   "id": "c0df3620-a491-4987-9db7-ed84550fd1af",
   "metadata": {},
   "source": [
    "## np.sort()"
   ]
  },
  {
   "cell_type": "code",
   "execution_count": 44,
   "id": "5e57c7b6-5c56-45c0-a167-34569a456a2a",
   "metadata": {
    "tags": []
   },
   "outputs": [
    {
     "name": "stdout",
     "output_type": "stream",
     "text": [
      "[48 45 11 ... 18 53 19]\n"
     ]
    }
   ],
   "source": [
    "array_3 = np.random.randint(100, size = variant * 100).astype(int)\n",
    "print(array_3)"
   ]
  },
  {
   "cell_type": "code",
   "execution_count": 45,
   "id": "37fd8bfe-0fff-4e0a-8320-8248cb568889",
   "metadata": {
    "tags": []
   },
   "outputs": [
    {
     "name": "stdout",
     "output_type": "stream",
     "text": [
      "39.6 µs ± 1.49 µs per loop (mean ± std. dev. of 7 runs, 10,000 loops each)\n"
     ]
    }
   ],
   "source": [
    "%%timeit\n",
    "np.sort(array_3)"
   ]
  },
  {
   "cell_type": "code",
   "execution_count": 46,
   "id": "ca29da02-c262-4005-85c8-8fc253064c04",
   "metadata": {
    "tags": []
   },
   "outputs": [
    {
     "name": "stdout",
     "output_type": "stream",
     "text": [
      "length = 1700\n",
      "[ 0  0  0 ... 99 99 99]\n"
     ]
    }
   ],
   "source": [
    "# Отсортированный массив\n",
    "print(f\"length = {len(array_3)}\")\n",
    "print(np.sort(array_3))"
   ]
  },
  {
   "cell_type": "markdown",
   "id": "5628a16b-f7e7-4d3f-9144-06caf7202f6c",
   "metadata": {},
   "source": [
    "## Сравнение времени"
   ]
  },
  {
   "cell_type": "code",
   "execution_count": 47,
   "id": "1f23f09a-98e6-4daf-a54a-f94285630f9d",
   "metadata": {
    "tags": []
   },
   "outputs": [
    {
     "name": "stdout",
     "output_type": "stream",
     "text": [
      "My_heapsort = 12.2 ms ± 224 µs per loop (mean ± std. dev. of 7 runs, 100 loops each)\n",
      "Python = 3.46 ms ± 59.9 µs per loop (mean ± std. dev. of 7 runs, 100 loops each)\n",
      "Np.sort() = 40.8 µs ± 1.51 µs per loop (mean ± std. dev. of 7 runs, 10,000 loops each)\n"
     ]
    }
   ],
   "source": [
    "print(\"My_heapsort = \", end=\"\") \n",
    "%timeit heap_sort(array)\n",
    "\n",
    "print(\"Python = \", end=\"\") \n",
    "%timeit build_heap(array_2)\n",
    "\n",
    "print(\"Np.sort() = \", end=\"\") \n",
    "%timeit np.sort(array_3)"
   ]
  },
  {
   "cell_type": "markdown",
   "id": "4838d28c-a8a5-4990-9706-fe15907efc05",
   "metadata": {},
   "source": [
    "# **Задание 3**"
   ]
  },
  {
   "cell_type": "code",
   "execution_count": 48,
   "id": "1b89a530-4644-4693-9e03-092f2f875c6f",
   "metadata": {
    "tags": []
   },
   "outputs": [],
   "source": [
    "data = np.genfromtxt('/Users/dmitry/Downloads/drinks.csv', delimiter=',', skip_header = 1, \n",
    "                     dtype={ \n",
    "                            \"names\": [\"country\", \"beer_servings\", \"spirit_servings\", \"wine_servings\", \"total_litres_of_pure_alcohol\"],\n",
    "                            \"formats\": [\"U20\", \"i4\", \"i4\", \"i4\", \"f8\"]\n",
    "                            }\n",
    "                    )  "
   ]
  },
  {
   "cell_type": "code",
   "execution_count": 49,
   "id": "7c19f416-9601-4985-b304-dbe8e2e4e463",
   "metadata": {
    "tags": []
   },
   "outputs": [],
   "source": [
    "alc_data = np.genfromtxt('/Users/dmitry/Downloads/drinks.csv', delimiter=',', skip_header = 1, dtype = [('country', 'U20'), ('beer_servings', 'i4'),\n",
    "('spirit_servings', 'i4'), ('wine_servings', 'i4'), ('total_litres_of_pure_alcohol', 'f8')])"
   ]
  },
  {
   "cell_type": "code",
   "execution_count": 50,
   "id": "b9be2874-8f03-4688-9e98-3d3233b163e8",
   "metadata": {
    "tags": []
   },
   "outputs": [
    {
     "data": {
      "text/plain": [
       "array([('Afghanistan',   0,   0,   0,  0. ),\n",
       "       ('Albania',  89, 132,  54,  4.9), ('Algeria',  25,   0,  14,  0.7),\n",
       "       ('Andorra', 245, 138, 312, 12.4), ('Angola', 217,  57,  45,  5.9),\n",
       "       ('Antigua & Barbuda', 102, 128,  45,  4.9),\n",
       "       ('Argentina', 193,  25, 221,  8.3),\n",
       "       ('Armenia',  21, 179,  11,  3.8),\n",
       "       ('Australia', 261,  72, 212, 10.4),\n",
       "       ('Austria', 279,  75, 191,  9.7),\n",
       "       ('Azerbaijan',  21,  46,   5,  1.3),\n",
       "       ('Bahamas', 122, 176,  51,  6.3), ('Bahrain',  42,  63,   7,  2. ),\n",
       "       ('Bangladesh',   0,   0,   0,  0. ),\n",
       "       ('Barbados', 143, 173,  36,  6.3),\n",
       "       ('Belarus', 142, 373,  42, 14.4), ('Belgium', 295,  84, 212, 10.5),\n",
       "       ('Belize', 263, 114,   8,  6.8), ('Benin',  34,   4,  13,  1.1),\n",
       "       ('Bhutan',  23,   0,   0,  0.4), ('Bolivia', 167,  41,   8,  3.8),\n",
       "       ('Bosnia-Herzegovina',  76, 173,   8,  4.6),\n",
       "       ('Botswana', 173,  35,  35,  5.4), ('Brazil', 245, 145,  16,  7.2),\n",
       "       ('Brunei',  31,   2,   1,  0.6), ('Bulgaria', 231, 252,  94, 10.3),\n",
       "       ('Burkina Faso',  25,   7,   7,  4.3),\n",
       "       ('Burundi',  88,   0,   0,  6.3),\n",
       "       (\"Cote d'Ivoire\",  37,   1,   7,  4. ),\n",
       "       ('Cabo Verde', 144,  56,  16,  4. ),\n",
       "       ('Cambodia',  57,  65,   1,  2.2),\n",
       "       ('Cameroon', 147,   1,   4,  5.8), ('Canada', 240, 122, 100,  8.2),\n",
       "       ('Central African Repu',  17,   2,   1,  1.8),\n",
       "       ('Chad',  15,   1,   1,  0.4), ('Chile', 130, 124, 172,  7.6),\n",
       "       ('China',  79, 192,   8,  5. ), ('Colombia', 159,  76,   3,  4.2),\n",
       "       ('Comoros',   1,   3,   1,  0.1), ('Congo',  76,   1,   9,  1.7),\n",
       "       ('Cook Islands',   0, 254,  74,  5.9),\n",
       "       ('Costa Rica', 149,  87,  11,  4.4),\n",
       "       ('Croatia', 230,  87, 254, 10.2), ('Cuba',  93, 137,   5,  4.2),\n",
       "       ('Cyprus', 192, 154, 113,  8.2),\n",
       "       ('Czech Republic', 361, 170, 134, 11.8),\n",
       "       ('North Korea',   0,   0,   0,  0. ),\n",
       "       ('DR Congo',  32,   3,   1,  2.3),\n",
       "       ('Denmark', 224,  81, 278, 10.4),\n",
       "       ('Djibouti',  15,  44,   3,  1.1),\n",
       "       ('Dominica',  52, 286,  26,  6.6),\n",
       "       ('Dominican Republic', 193, 147,   9,  6.2),\n",
       "       ('Ecuador', 162,  74,   3,  4.2), ('Egypt',   6,   4,   1,  0.2),\n",
       "       ('El Salvador',  52,  69,   2,  2.2),\n",
       "       ('Equatorial Guinea',  92,   0, 233,  5.8),\n",
       "       ('Eritrea',  18,   0,   0,  0.5), ('Estonia', 224, 194,  59,  9.5),\n",
       "       ('Ethiopia',  20,   3,   0,  0.7), ('Fiji',  77,  35,   1,  2. ),\n",
       "       ('Finland', 263, 133,  97, 10. ), ('France', 127, 151, 370, 11.8),\n",
       "       ('Gabon', 347,  98,  59,  8.9), ('Gambia',   8,   0,   1,  2.4),\n",
       "       ('Georgia',  52, 100, 149,  5.4), ('Germany', 346, 117, 175, 11.3),\n",
       "       ('Ghana',  31,   3,  10,  1.8), ('Greece', 133, 112, 218,  8.3),\n",
       "       ('Grenada', 199, 438,  28, 11.9),\n",
       "       ('Guatemala',  53,  69,   2,  2.2),\n",
       "       ('Guinea',   9,   0,   2,  0.2),\n",
       "       ('Guinea-Bissau',  28,  31,  21,  2.5),\n",
       "       ('Guyana',  93, 302,   1,  7.1), ('Haiti',   1, 326,   1,  5.9),\n",
       "       ('Honduras',  69,  98,   2,  3. ),\n",
       "       ('Hungary', 234, 215, 185, 11.3), ('Iceland', 233,  61,  78,  6.6),\n",
       "       ('India',   9, 114,   0,  2.2), ('Indonesia',   5,   1,   0,  0.1),\n",
       "       ('Iran',   0,   0,   0,  0. ), ('Iraq',   9,   3,   0,  0.2),\n",
       "       ('Ireland', 313, 118, 165, 11.4), ('Israel',  63,  69,   9,  2.5),\n",
       "       ('Italy',  85,  42, 237,  6.5), ('Jamaica',  82,  97,   9,  3.4),\n",
       "       ('Japan',  77, 202,  16,  7. ), ('Jordan',   6,  21,   1,  0.5),\n",
       "       ('Kazakhstan', 124, 246,  12,  6.8),\n",
       "       ('Kenya',  58,  22,   2,  1.8), ('Kiribati',  21,  34,   1,  1. ),\n",
       "       ('Kuwait',   0,   0,   0,  0. ),\n",
       "       ('Kyrgyzstan',  31,  97,   6,  2.4), ('Laos',  62,   0, 123,  6.2),\n",
       "       ('Latvia', 281, 216,  62, 10.5), ('Lebanon',  20,  55,  31,  1.9),\n",
       "       ('Lesotho',  82,  29,   0,  2.8), ('Liberia',  19, 152,   2,  3.1),\n",
       "       ('Libya',   0,   0,   0,  0. ), ('Lithuania', 343, 244,  56, 12.9),\n",
       "       ('Luxembourg', 236, 133, 271, 11.4),\n",
       "       ('Madagascar',  26,  15,   4,  0.8),\n",
       "       ('Malawi',   8,  11,   1,  1.5), ('Malaysia',  13,   4,   0,  0.3),\n",
       "       ('Maldives',   0,   0,   0,  0. ), ('Mali',   5,   1,   1,  0.6),\n",
       "       ('Malta', 149, 100, 120,  6.6),\n",
       "       ('Marshall Islands',   0,   0,   0,  0. ),\n",
       "       ('Mauritania',   0,   0,   0,  0. ),\n",
       "       ('Mauritius',  98,  31,  18,  2.6),\n",
       "       ('Mexico', 238,  68,   5,  5.5),\n",
       "       ('Micronesia',  62,  50,  18,  2.3),\n",
       "       ('Monaco',   0,   0,   0,  0. ), ('Mongolia',  77, 189,   8,  4.9),\n",
       "       ('Montenegro',  31, 114, 128,  4.9),\n",
       "       ('Morocco',  12,   6,  10,  0.5),\n",
       "       ('Mozambique',  47,  18,   5,  1.3),\n",
       "       ('Myanmar',   5,   1,   0,  0.1), ('Namibia', 376,   3,   1,  6.8),\n",
       "       ('Nauru',  49,   0,   8,  1. ), ('Nepal',   5,   6,   0,  0.2),\n",
       "       ('Netherlands', 251,  88, 190,  9.4),\n",
       "       ('New Zealand', 203,  79, 175,  9.3),\n",
       "       ('Nicaragua',  78, 118,   1,  3.5), ('Niger',   3,   2,   1,  0.1),\n",
       "       ('Nigeria',  42,   5,   2,  9.1), ('Niue', 188, 200,   7,  7. ),\n",
       "       ('Norway', 169,  71, 129,  6.7), ('Oman',  22,  16,   1,  0.7),\n",
       "       ('Pakistan',   0,   0,   0,  0. ), ('Palau', 306,  63,  23,  6.9),\n",
       "       ('Panama', 285, 104,  18,  7.2),\n",
       "       ('Papua New Guinea',  44,  39,   1,  1.5),\n",
       "       ('Paraguay', 213, 117,  74,  7.3), ('Peru', 163, 160,  21,  6.1),\n",
       "       ('Philippines',  71, 186,   1,  4.6),\n",
       "       ('Poland', 343, 215,  56, 10.9), ('Portugal', 194,  67, 339, 11. ),\n",
       "       ('Qatar',   1,  42,   7,  0.9),\n",
       "       ('South Korea', 140,  16,   9,  9.8),\n",
       "       ('Moldova', 109, 226,  18,  6.3), ('Romania', 297, 122, 167, 10.4),\n",
       "       ('Russian Federation', 247, 326,  73, 11.5),\n",
       "       ('Rwanda',  43,   2,   0,  6.8),\n",
       "       ('St. Kitts & Nevis', 194, 205,  32,  7.7),\n",
       "       ('St. Lucia', 171, 315,  71, 10.1),\n",
       "       ('St. Vincent & the Gr', 120, 221,  11,  6.3),\n",
       "       ('Samoa', 105,  18,  24,  2.6),\n",
       "       ('San Marino',   0,   0,   0,  0. ),\n",
       "       ('Sao Tome & Principe',  56,  38, 140,  4.2),\n",
       "       ('Saudi Arabia',   0,   5,   0,  0.1),\n",
       "       ('Senegal',   9,   1,   7,  0.3), ('Serbia', 283, 131, 127,  9.6),\n",
       "       ('Seychelles', 157,  25,  51,  4.1),\n",
       "       ('Sierra Leone',  25,   3,   2,  6.7),\n",
       "       ('Singapore',  60,  12,  11,  1.5),\n",
       "       ('Slovakia', 196, 293, 116, 11.4),\n",
       "       ('Slovenia', 270,  51, 276, 10.6),\n",
       "       ('Solomon Islands',  56,  11,   1,  1.2),\n",
       "       ('Somalia',   0,   0,   0,  0. ),\n",
       "       ('South Africa', 225,  76,  81,  8.2),\n",
       "       ('Spain', 284, 157, 112, 10. ), ('Sri Lanka',  16, 104,   0,  2.2),\n",
       "       ('Sudan',   8,  13,   0,  1.7), ('Suriname', 128, 178,   7,  5.6),\n",
       "       ('Swaziland',  90,   2,   2,  4.7),\n",
       "       ('Sweden', 152,  60, 186,  7.2),\n",
       "       ('Switzerland', 185, 100, 280, 10.2),\n",
       "       ('Syria',   5,  35,  16,  1. ),\n",
       "       ('Tajikistan',   2,  15,   0,  0.3),\n",
       "       ('Thailand',  99, 258,   1,  6.4),\n",
       "       ('Macedonia', 106,  27,  86,  3.9),\n",
       "       ('Timor-Leste',   1,   1,   4,  0.1),\n",
       "       ('Togo',  36,   2,  19,  1.3), ('Tonga',  36,  21,   5,  1.1),\n",
       "       ('Trinidad & Tobago', 197, 156,   7,  6.4),\n",
       "       ('Tunisia',  51,   3,  20,  1.3), ('Turkey',  51,  22,   7,  1.4),\n",
       "       ('Turkmenistan',  19,  71,  32,  2.2),\n",
       "       ('Tuvalu',   6,  41,   9,  1. ), ('Uganda',  45,   9,   0,  8.3),\n",
       "       ('Ukraine', 206, 237,  45,  8.9),\n",
       "       ('United Arab Emirates',  16, 135,   5,  2.8),\n",
       "       ('United Kingdom', 219, 126, 195, 10.4),\n",
       "       ('Tanzania',  36,   6,   1,  5.7), ('USA', 249, 158,  84,  8.7),\n",
       "       ('Uruguay', 115,  35, 220,  6.6),\n",
       "       ('Uzbekistan',  25, 101,   8,  2.4),\n",
       "       ('Vanuatu',  21,  18,  11,  0.9),\n",
       "       ('Venezuela', 333, 100,   3,  7.7),\n",
       "       ('Vietnam', 111,   2,   1,  2. ), ('Yemen',   6,   0,   0,  0.1),\n",
       "       ('Zambia',  32,  19,   4,  2.5), ('Zimbabwe',  64,  18,   4,  4.7)],\n",
       "      dtype=[('country', '<U20'), ('beer_servings', '<i4'), ('spirit_servings', '<i4'), ('wine_servings', '<i4'), ('total_litres_of_pure_alcohol', '<f8')])"
      ]
     },
     "execution_count": 50,
     "metadata": {},
     "output_type": "execute_result"
    }
   ],
   "source": [
    "data"
   ]
  },
  {
   "cell_type": "code",
   "execution_count": null,
   "id": "b53d4aa3-6b61-480c-869f-1852382daa31",
   "metadata": {
    "tags": []
   },
   "outputs": [],
   "source": [
    "print(alc_data['country'])"
   ]
  },
  {
   "cell_type": "code",
   "execution_count": null,
   "id": "6ca0a3b3-7c15-45f9-a449-2cca9f674a61",
   "metadata": {},
   "outputs": [],
   "source": []
  }
 ],
 "metadata": {
  "kernelspec": {
   "display_name": "Python 3 (ipykernel)",
   "language": "python",
   "name": "python3"
  },
  "language_info": {
   "codemirror_mode": {
    "name": "ipython",
    "version": 3
   },
   "file_extension": ".py",
   "mimetype": "text/x-python",
   "name": "python",
   "nbconvert_exporter": "python",
   "pygments_lexer": "ipython3",
   "version": "3.11.5"
  }
 },
 "nbformat": 4,
 "nbformat_minor": 5
}
