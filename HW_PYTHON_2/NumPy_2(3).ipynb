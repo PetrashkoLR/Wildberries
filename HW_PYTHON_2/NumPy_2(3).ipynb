{
 "cells": [
  {
   "cell_type": "markdown",
   "id": "30eced5f-c99e-405a-80fa-e0119ae5b72b",
   "metadata": {
    "tags": []
   },
   "source": [
    "# **Задание 1**"
   ]
  },
  {
   "cell_type": "code",
   "execution_count": 151,
   "id": "7433c4b9-a288-47bd-a8b2-cd6dc7230ec8",
   "metadata": {
    "tags": []
   },
   "outputs": [],
   "source": [
    "import numpy as np\n",
    "import random\n",
    "\n",
    "variant = 17"
   ]
  },
  {
   "cell_type": "markdown",
   "id": "ffa52b76-d0b1-4440-9a76-f6438435c566",
   "metadata": {
    "tags": []
   },
   "source": [
    "## Общие параметры\n"
   ]
  },
  {
   "cell_type": "code",
   "execution_count": 152,
   "id": "9fbd477c-f104-4710-881c-fc5975c5fb16",
   "metadata": {
    "tags": []
   },
   "outputs": [
    {
     "name": "stdout",
     "output_type": "stream",
     "text": [
      "[57, 17, 68, 40, 105, 59, 108, 25, 74, 92, 51, 108, 81, 39, 47, 100, 31, 54, 35, 35]\n",
      "[44, 103, 29, 109, 34, 78, 68, 56, 86, 100, 56, 59, 94, 77, 39, 64, 82, 36, 87, 91]\n",
      "[73, 85, 107, 36, 46, 51, 66, 86, 62, 109, 34, 23, 73, 76, 89, 52, 78, 57, 90, 23]\n",
      "[38, 61, 90, 69, 90, 58, 95, 77, 27, 59, 99, 70, 37, 81, 70, 78, 39, 40, 63, 95]\n"
     ]
    }
   ],
   "source": [
    "sales = []\n",
    "\n",
    "for i in range(4):\n",
    "    sales.append([random.randint(variant, variant+100) for j in range(100000)])\n",
    "\n",
    "for j in range(4):    \n",
    "    print(sales[j][:20]) # 1-ая строка => 'автомобиль HAVAL', 2-ая => 'обувь', 3-ья => 'одежда', 4-ая => 'телефоны'"
   ]
  },
  {
   "cell_type": "markdown",
   "id": "af4d46a5-5d6e-4fb9-a244-6bdaa81c2fef",
   "metadata": {},
   "source": [
    "## Решение через Python"
   ]
  },
  {
   "cell_type": "code",
   "execution_count": 153,
   "id": "147b2d28-4776-4a7e-925a-bc487798d3f7",
   "metadata": {
    "tags": []
   },
   "outputs": [],
   "source": [
    "products = ['автомобиль HAVAL', 'обувь', 'одежда', 'телефоны']\n",
    "prices = [20000, 3000, 45600, 5000]\n",
    "\n",
    "revenue_py = []"
   ]
  },
  {
   "cell_type": "code",
   "execution_count": 154,
   "id": "968025d5-90b8-456a-b9c4-d7c944dcf9f1",
   "metadata": {
    "tags": []
   },
   "outputs": [],
   "source": [
    "def revenue_from_sales_py(arr):\n",
    "    revenue = []\n",
    "    \n",
    "    for i in range(4):\n",
    "        number_sales_product = 0\n",
    "        for j in range(100000):\n",
    "            number_sales_product += arr[i][j]\n",
    "        revenue.append(number_sales_product * prices[i])\n",
    "        \n",
    "    return revenue"
   ]
  },
  {
   "cell_type": "code",
   "execution_count": 155,
   "id": "5b6f6422-72b0-4534-8480-f6901fa07315",
   "metadata": {
    "tags": []
   },
   "outputs": [
    {
     "name": "stdout",
     "output_type": "stream",
     "text": [
      "21.4 ms ± 1.54 ms per loop (mean ± std. dev. of 7 runs, 10 loops each)\n"
     ]
    }
   ],
   "source": [
    "%timeit revenue_py = revenue_from_sales_py(sales)\n",
    "# время работы кода на python"
   ]
  },
  {
   "cell_type": "code",
   "execution_count": 156,
   "id": "cbd71e08-91a3-4b3c-83db-56b6f08ba739",
   "metadata": {
    "tags": []
   },
   "outputs": [
    {
     "name": "stdout",
     "output_type": "stream",
     "text": [
      "автомобиль HAVAL: 133,732,860,000\n",
      "обувь: 20,076,420,000\n",
      "одежда: 305,363,637,600\n",
      "телефоны: 33,429,175,000\n"
     ]
    }
   ],
   "source": [
    "revenue_py = revenue_from_sales_py(sales)\n",
    "for i in range(4):\n",
    "    print(f\"{products[i]}: \", end=\"\")\n",
    "    print(\"{:,}\".format(revenue_py[i]))  "
   ]
  },
  {
   "cell_type": "markdown",
   "id": "e3e6a4b9-8950-4806-beae-507ff62606b6",
   "metadata": {
    "tags": []
   },
   "source": [
    "## Решение через NumPy"
   ]
  },
  {
   "cell_type": "code",
   "execution_count": 157,
   "id": "8752c331-31eb-4a4c-8923-b2f476e806bc",
   "metadata": {
    "tags": []
   },
   "outputs": [],
   "source": [
    "products = np.array(['автомобиль HAVAL', 'обувь', 'одежда', 'телефоны'])\n",
    "prices = np.array([20000, 3000, 45600, 5000])\n",
    "sales = np.array(sales)\n",
    "\n",
    "revenue_sales_np = []"
   ]
  },
  {
   "cell_type": "code",
   "execution_count": 158,
   "id": "be9b4bdb-b139-472d-a897-a760197f264b",
   "metadata": {
    "tags": []
   },
   "outputs": [],
   "source": [
    "def revenue_from_sales_np(arr):\n",
    "    revenue = []\n",
    "    \n",
    "    for i in range(4):\n",
    "        number_sales_product = np.sum(sales[i])\n",
    "        revenue.append(number_sales_product * prices[i])\n",
    "        \n",
    "    return revenue"
   ]
  },
  {
   "cell_type": "code",
   "execution_count": 159,
   "id": "bf946456-1d31-4caa-8e6a-a02033cd49e1",
   "metadata": {
    "tags": []
   },
   "outputs": [
    {
     "name": "stdout",
     "output_type": "stream",
     "text": [
      "81.4 µs ± 913 ns per loop (mean ± std. dev. of 7 runs, 10,000 loops each)\n"
     ]
    }
   ],
   "source": [
    "%timeit revenue_np = revenue_from_sales_np(sales)\n",
    "# время работы кода на numpy"
   ]
  },
  {
   "cell_type": "code",
   "execution_count": 160,
   "id": "ef73792d-9df6-4181-bf53-faf370052000",
   "metadata": {},
   "outputs": [
    {
     "name": "stdout",
     "output_type": "stream",
     "text": [
      "автомобиль HAVAL: 133,732,860,000\n",
      "обувь: 20,076,420,000\n",
      "одежда: 305,363,637,600\n",
      "телефоны: 33,429,175,000\n"
     ]
    }
   ],
   "source": [
    "revenue_np = revenue_from_sales_np(sales)\n",
    "for i in range(4):\n",
    "    print(f\"{products[i]}: \", end=\"\")\n",
    "    print(\"{:,}\".format(revenue_np[i]))  "
   ]
  },
  {
   "cell_type": "markdown",
   "id": "3de594cf-3e62-4625-bcc5-5d09f11a2127",
   "metadata": {},
   "source": [
    "## Решение через Numpy с использованием векторизации"
   ]
  },
  {
   "cell_type": "code",
   "execution_count": 161,
   "id": "54a5b811-1334-446a-b6a2-4309e80e5b20",
   "metadata": {
    "tags": []
   },
   "outputs": [],
   "source": [
    "products = np.array(['автомобиль HAVAL', 'обувь', 'одежда', 'телефоны'])\n",
    "prices = np.array([20000, 3000, 45600, 5000])\n",
    "sales = np.array(sales)\n",
    "\n",
    "revenue_sales_np_vec = []"
   ]
  },
  {
   "cell_type": "code",
   "execution_count": 162,
   "id": "97504d01-a370-4c39-8bae-6a3a6f1b31f8",
   "metadata": {
    "tags": []
   },
   "outputs": [],
   "source": [
    "def revenue_from_sales_np_vec(arr):\n",
    "    number_sales_product = np.sum(sales, axis = 1) * prices\n",
    "    #revenue = number_sales_product * prices[i]\n",
    "        \n",
    "    return number_sales_product"
   ]
  },
  {
   "cell_type": "code",
   "execution_count": 163,
   "id": "bb99756c-2778-401d-8de5-261b8d01183a",
   "metadata": {
    "tags": []
   },
   "outputs": [
    {
     "name": "stdout",
     "output_type": "stream",
     "text": [
      "69 µs ± 3.64 µs per loop (mean ± std. dev. of 7 runs, 10,000 loops each)\n"
     ]
    }
   ],
   "source": [
    "%timeit revenue_np_vec = revenue_from_sales_np_vec(sales)\n",
    "# время работы кода на numpy с использованием векторизации\n"
   ]
  },
  {
   "cell_type": "code",
   "execution_count": 164,
   "id": "d982dc6c-47dd-403a-a5f3-05d3343619c8",
   "metadata": {
    "tags": []
   },
   "outputs": [
    {
     "name": "stdout",
     "output_type": "stream",
     "text": [
      "автомобиль HAVAL: 133,732,860,000\n",
      "обувь: 20,076,420,000\n",
      "одежда: 305,363,637,600\n",
      "телефоны: 33,429,175,000\n"
     ]
    }
   ],
   "source": [
    "revenue_np_vec = revenue_from_sales_np_vec(sales)\n",
    "for i in range(4):\n",
    "    print(f\"{products[i]}: \", end=\"\")\n",
    "    print(\"{:,}\".format(revenue_np[i]))"
   ]
  },
  {
   "cell_type": "markdown",
   "id": "193baf2d-88a0-44e7-a9c3-949fb25f4b39",
   "metadata": {},
   "source": [
    "## Сравнение\n"
   ]
  },
  {
   "cell_type": "code",
   "execution_count": 165,
   "id": "304b4ae6-752d-4e91-8b65-c55ef7c9e674",
   "metadata": {
    "tags": []
   },
   "outputs": [
    {
     "name": "stdout",
     "output_type": "stream",
     "text": [
      "Python = 101 ms ± 6.24 ms per loop (mean ± std. dev. of 7 runs, 10 loops each)\n",
      "NumPy = 84 µs ± 3.74 µs per loop (mean ± std. dev. of 7 runs, 10,000 loops each)\n",
      "NumPy vec = 66.6 µs ± 941 ns per loop (mean ± std. dev. of 7 runs, 10,000 loops each)\n"
     ]
    }
   ],
   "source": [
    "print(\"Python = \", end=\"\")\n",
    "%timeit revenue_py = revenue_from_sales_py(sales)\n",
    "# время работы кода на python\n",
    "\n",
    "print(\"NumPy = \", end=\"\")\n",
    "%timeit revenue_np = revenue_from_sales_np(sales)\n",
    "# время работы кода на numpy\n",
    "\n",
    "print(\"NumPy vec = \", end=\"\")\n",
    "%timeit revenue_np_vec = revenue_from_sales_np_vec(sales)\n",
    "# время работы кода на numpy с использованием векторизации"
   ]
  },
  {
   "cell_type": "code",
   "execution_count": 166,
   "id": "4f880f07-74be-4542-b086-e2f62b59281c",
   "metadata": {
    "tags": []
   },
   "outputs": [
    {
     "name": "stdout",
     "output_type": "stream",
     "text": [
      "Вывод категорий товаров по возрастанию дохода: \n",
      "\n",
      "обувь: 20,076,420,000\n",
      "телефоны: 33,429,175,000\n",
      "автомобиль HAVAL: 133,732,860,000\n",
      "одежда: 305,363,637,600\n"
     ]
    }
   ],
   "source": [
    "x = np.arange(4)\n",
    "new = np.vstack([x,revenue_py])\n",
    "sorted_array = np.sort(revenue_py)\n",
    "\n",
    "print(\"Вывод категорий товаров по возрастанию дохода: \\n\")\n",
    "for ar in sorted_array:\n",
    "    for i in range(4):\n",
    "        if ar == new[1][i]:\n",
    "            print(f\"{products[i]}: \", end=\"\")\n",
    "            print(\"{:,}\".format(new[1][i]))"
   ]
  },
  {
   "cell_type": "markdown",
   "id": "0cb20c12-fc43-49d8-8adc-735bde374911",
   "metadata": {
    "tags": []
   },
   "source": [
    "# **Задание 2**"
   ]
  },
  {
   "cell_type": "markdown",
   "id": "488720eb-5349-4dea-973e-b2f25d6d5b95",
   "metadata": {},
   "source": [
    "## Реализация heapsort"
   ]
  },
  {
   "cell_type": "code",
   "execution_count": 167,
   "id": "5248dfac-e7c7-47cc-94c1-49c8e906e18a",
   "metadata": {
    "tags": []
   },
   "outputs": [],
   "source": [
    "def heap_with_maxi_root(arr, i, max_index): # Пишем алгоритм по созданию двоичного дерева, в корне которого будет максимальный элемент\n",
    "    \n",
    "    node = i # Индекс текущего узелка\n",
    "    l = 2 * i + 1 # Левый дочерний узел двоичного дерева у элемента с индексом i\n",
    "    r = 2 * i + 2 # Правый дочерний узел\n",
    "    \n",
    "    \n",
    "    # Посмотрим, существует ли левый дочерний узел у текущего элемента\n",
    "    # и проверим, будет ли он больше по величене, чем текущий элемент\n",
    "    if l < max_index and arr[node] < arr[l]:\n",
    "        node = l # Сдвигаем наш указатель дальше\n",
    "   \n",
    "\n",
    "    # Аналогично с правым дочерним узлом\n",
    "    if r < max_index and arr[node] < arr[r]:\n",
    "        node = r # Сдвигаем наш указатель дальше\n",
    "        \n",
    "        \n",
    "    # Если указатель не на текущем элементе, т.е. если среди дочерних элементов нашелся такой, который больше по значению, чем текущий, то свапаем их    \n",
    "    if node != i: \n",
    "        arr[i], arr[node] = arr[node], arr[i]\n",
    "        \n",
    "        # Пока условие выполняется, т.е. данный кусочек дерева (который ниже i) неотсортирован, продолжаем его выстраивать под концепцию двоичного дерева с бОльшими родительскими узлами\n",
    "        heap_with_maxi_root(arr, node, max_index)\n",
    "\n",
    "        \n",
    "        \n",
    "def heap_sort(arr):\n",
    "    \n",
    "    max_index = len(arr)\n",
    " \n",
    "    # Выстраиваем дерево с максимальной вершиной\n",
    "    for i in range(max_index//2 - 1, -1, -1):\n",
    "        heap_with_maxi_root(arr, i, max_index)\n",
    " \n",
    "    # \"Вырезаем\" вершину отсортированного дерева и свапаем последний элемент списка(из тех, что еще неотсортированы) с вершиной\n",
    "    for i in range(max_index - 1, 0, -1):\n",
    "        arr[i], arr[0] = arr[0], arr[i] \n",
    "        heap_with_maxi_root(arr, 0, i) # Заново сортируем после swap\n",
    "        "
   ]
  },
  {
   "cell_type": "code",
   "execution_count": 168,
   "id": "87c887fe-436d-4177-bfa2-cab57f339ed4",
   "metadata": {
    "tags": []
   },
   "outputs": [
    {
     "name": "stdout",
     "output_type": "stream",
     "text": [
      "[99 92 19 ... 78 57 67]\n"
     ]
    }
   ],
   "source": [
    "array = np.random.randint(100, size = variant * 100).astype(int)\n",
    "print(array)"
   ]
  },
  {
   "cell_type": "code",
   "execution_count": 169,
   "id": "feede0eb-c442-4478-abc4-87cb35e57cf7",
   "metadata": {
    "tags": []
   },
   "outputs": [
    {
     "name": "stdout",
     "output_type": "stream",
     "text": [
      "12.6 ms ± 185 µs per loop (mean ± std. dev. of 7 runs, 100 loops each)\n"
     ]
    }
   ],
   "source": [
    "%%timeit\n",
    "heap_sort(array)"
   ]
  },
  {
   "cell_type": "code",
   "execution_count": 170,
   "id": "d4b33075-d1f4-453f-a66e-dbae63db5b82",
   "metadata": {
    "tags": []
   },
   "outputs": [
    {
     "name": "stdout",
     "output_type": "stream",
     "text": [
      "length = 1700\n",
      "[ 0  0  0 ... 99 99 99]\n"
     ]
    }
   ],
   "source": [
    "# Отсортированный массив\n",
    "print(f\"length = {len(array)}\")\n",
    "print(array)\n"
   ]
  },
  {
   "cell_type": "markdown",
   "id": "0711cda6-df3b-49b4-b725-9f22344336d1",
   "metadata": {},
   "source": [
    "## Реализация heapsort на Python"
   ]
  },
  {
   "cell_type": "code",
   "execution_count": 171,
   "id": "eb560693-6697-4c83-b1f6-b79960d77911",
   "metadata": {
    "tags": []
   },
   "outputs": [
    {
     "name": "stdout",
     "output_type": "stream",
     "text": [
      "[24, 1, 97, 7, 75, 48, 54, 68, 46, 5, 26, 5, 20, 105, 45, 58, 30, 45, 92, 84]\n"
     ]
    }
   ],
   "source": [
    "array_2 = [random.randint(0, variant+100) for i in range(variant*100)]\n",
    "print(array_2[:20])"
   ]
  },
  {
   "cell_type": "code",
   "execution_count": 172,
   "id": "80bfbc0a-52ec-4299-bb23-54ec6d1869e7",
   "metadata": {
    "tags": []
   },
   "outputs": [],
   "source": [
    "def max_heapify(arr,n,i):\n",
    "    l = 2 * i + 1\n",
    "    r = 2 * i + 2\n",
    " \n",
    "    if l < n and arr[l] > arr[i]:\n",
    "        largest = l\n",
    "    else:\n",
    "        largest = i\n",
    " \n",
    "    if r < n and arr[r] > arr[largest]:\n",
    "        largest = r\n",
    " \n",
    "    if largest != i:\n",
    "        arr[i], arr[largest] = arr[largest], arr[i]\n",
    "        max_heapify(arr, n, largest)\n",
    "\n",
    "\n",
    "def build_heap(arr):\n",
    "    n = len(arr)\n",
    " \n",
    "    for i in range(n, -1,-1):\n",
    "        max_heapify(arr, n, i)\n",
    " \n",
    "    for i in range(n-1,0,-1):\n",
    "        arr[0] ,arr[i] = arr[i], arr[0]\n",
    "        max_heapify(arr, i, 0)"
   ]
  },
  {
   "cell_type": "code",
   "execution_count": 173,
   "id": "1f54c647-1c90-4826-a43e-a8ce216a41b3",
   "metadata": {
    "tags": []
   },
   "outputs": [
    {
     "name": "stdout",
     "output_type": "stream",
     "text": [
      "3.39 ms ± 55.3 µs per loop (mean ± std. dev. of 7 runs, 100 loops each)\n"
     ]
    }
   ],
   "source": [
    "%%timeit\n",
    "build_heap(array_2)"
   ]
  },
  {
   "cell_type": "code",
   "execution_count": 174,
   "id": "2a2ada92-b894-439f-8d90-0ca1197ca799",
   "metadata": {
    "tags": []
   },
   "outputs": [
    {
     "name": "stdout",
     "output_type": "stream",
     "text": [
      "length = 1700\n",
      "[0, 0, 0, 0, 0, 0, 0, 1, 1, 1, 1, 1, 1, 1, 1, 1, 1, 1, 1, 1, 1, 1, 2, 2, 2, 2, 2, 2, 2, 2, 2, 2, 2, 2, 2, 3, 3, 3, 3, 3, 3, 3, 3, 3, 3, 4, 4, 4, 4, 4, 4, 4, 4, 4, 4, 4, 4, 4, 4, 4, 4, 4, 5, 5, 5, 5, 5, 5, 5, 5, 5, 5, 5, 5, 5, 6, 6, 6, 6, 6, 6, 6, 6, 6, 6, 6, 7, 7, 7, 7, 7, 7, 7, 7, 7, 7, 7, 7, 7, 7]\n"
     ]
    }
   ],
   "source": [
    "# Отсортированный массив\n",
    "print(f\"length = {len(array_2)}\")\n",
    "print(array_2[:100])"
   ]
  },
  {
   "cell_type": "markdown",
   "id": "c0df3620-a491-4987-9db7-ed84550fd1af",
   "metadata": {},
   "source": [
    "## np.sort()"
   ]
  },
  {
   "cell_type": "code",
   "execution_count": 175,
   "id": "5e57c7b6-5c56-45c0-a167-34569a456a2a",
   "metadata": {
    "tags": []
   },
   "outputs": [
    {
     "name": "stdout",
     "output_type": "stream",
     "text": [
      "[ 0 35  3 ... 73 27 57]\n"
     ]
    }
   ],
   "source": [
    "array_3 = np.random.randint(100, size = variant * 100).astype(int)\n",
    "print(array_3)"
   ]
  },
  {
   "cell_type": "code",
   "execution_count": 176,
   "id": "37fd8bfe-0fff-4e0a-8320-8248cb568889",
   "metadata": {
    "tags": []
   },
   "outputs": [
    {
     "name": "stdout",
     "output_type": "stream",
     "text": [
      "38 µs ± 960 ns per loop (mean ± std. dev. of 7 runs, 10,000 loops each)\n"
     ]
    }
   ],
   "source": [
    "%%timeit\n",
    "np.sort(array_3)"
   ]
  },
  {
   "cell_type": "code",
   "execution_count": 177,
   "id": "ca29da02-c262-4005-85c8-8fc253064c04",
   "metadata": {
    "tags": []
   },
   "outputs": [
    {
     "name": "stdout",
     "output_type": "stream",
     "text": [
      "length = 1700\n",
      "[ 0  0  0 ... 99 99 99]\n"
     ]
    }
   ],
   "source": [
    "# Отсортированный массив\n",
    "print(f\"length = {len(array_3)}\")\n",
    "print(np.sort(array_3))"
   ]
  },
  {
   "cell_type": "markdown",
   "id": "5628a16b-f7e7-4d3f-9144-06caf7202f6c",
   "metadata": {},
   "source": [
    "## Сравнение времени"
   ]
  },
  {
   "cell_type": "code",
   "execution_count": 178,
   "id": "1f23f09a-98e6-4daf-a54a-f94285630f9d",
   "metadata": {
    "tags": []
   },
   "outputs": [
    {
     "name": "stdout",
     "output_type": "stream",
     "text": [
      "My_heapsort = 12.3 ms ± 224 µs per loop (mean ± std. dev. of 7 runs, 100 loops each)\n",
      "Python = 3.42 ms ± 66.5 µs per loop (mean ± std. dev. of 7 runs, 100 loops each)\n",
      "Np.sort() = 37.9 µs ± 678 ns per loop (mean ± std. dev. of 7 runs, 10,000 loops each)\n"
     ]
    }
   ],
   "source": [
    "print(\"My_heapsort = \", end=\"\") \n",
    "%timeit heap_sort(array)\n",
    "\n",
    "print(\"Python = \", end=\"\") \n",
    "%timeit build_heap(array_2)\n",
    "\n",
    "print(\"Np.sort() = \", end=\"\") \n",
    "%timeit np.sort(array_3)"
   ]
  },
  {
   "cell_type": "markdown",
   "id": "4838d28c-a8a5-4990-9706-fe15907efc05",
   "metadata": {},
   "source": [
    "# **Задание 3**"
   ]
  },
  {
   "cell_type": "code",
   "execution_count": 179,
   "id": "1b89a530-4644-4693-9e03-092f2f875c6f",
   "metadata": {
    "tags": []
   },
   "outputs": [],
   "source": [
    "data = np.genfromtxt('/Users/dmitry/Downloads/drinks.csv', delimiter=',', skip_header = 1, \n",
    "                     dtype={ \n",
    "                            \"names\": [\"country\", \"beer_servings\", \"spirit_servings\", \"wine_servings\", \"total_litres_of_pure_alcohol\"],\n",
    "                            \"formats\": [\"U20\", \"i4\", \"i4\", \"i4\", \"f8\"]\n",
    "                            }\n",
    "                    )  "
   ]
  },
  {
   "cell_type": "code",
   "execution_count": 180,
   "id": "b9be2874-8f03-4688-9e98-3d3233b163e8",
   "metadata": {
    "tags": []
   },
   "outputs": [
    {
     "name": "stdout",
     "output_type": "stream",
     "text": [
      "[('Afghanistan',   0,   0,   0,  0. ) ('Albania',  89, 132,  54,  4.9)\n",
      " ('Algeria',  25,   0,  14,  0.7) ('Andorra', 245, 138, 312, 12.4)\n",
      " ('Angola', 217,  57,  45,  5.9)\n",
      " ('Antigua & Barbuda', 102, 128,  45,  4.9)\n",
      " ('Argentina', 193,  25, 221,  8.3) ('Armenia',  21, 179,  11,  3.8)\n",
      " ('Australia', 261,  72, 212, 10.4) ('Austria', 279,  75, 191,  9.7)\n",
      " ('Azerbaijan',  21,  46,   5,  1.3) ('Bahamas', 122, 176,  51,  6.3)\n",
      " ('Bahrain',  42,  63,   7,  2. ) ('Bangladesh',   0,   0,   0,  0. )\n",
      " ('Barbados', 143, 173,  36,  6.3) ('Belarus', 142, 373,  42, 14.4)\n",
      " ('Belgium', 295,  84, 212, 10.5) ('Belize', 263, 114,   8,  6.8)\n",
      " ('Benin',  34,   4,  13,  1.1) ('Bhutan',  23,   0,   0,  0.4)]\n"
     ]
    }
   ],
   "source": [
    "print(data[:20])"
   ]
  },
  {
   "cell_type": "code",
   "execution_count": 181,
   "id": "6ca0a3b3-7c15-45f9-a449-2cca9f674a61",
   "metadata": {},
   "outputs": [
    {
     "name": "stdout",
     "output_type": "stream",
     "text": [
      "Первое место в списке потребителей пива: Namibia -> 376\n",
      "Первое место в списке потребителей крепких спиртных напитков: Grenada -> 438\n",
      "Первое место в списке потребителей вина: France -> 370\n",
      "Первое место в списке потребителей алкоголя: Belarus -> 14.4\n"
     ]
    }
   ],
   "source": [
    "beer_max = data[\"country\"][np.argmax(data['beer_servings'])]\n",
    "print(f\"Первое место в списке потребителей пива: {beer_max} -> {np.max(data['beer_servings'])}\")\n",
    "\n",
    "spirit_max = data[\"country\"][np.argmax(data['spirit_servings'])]\n",
    "print(f\"Первое место в списке потребителей крепких спиртных напитков: {spirit_max} -> {np.max(data['spirit_servings'])}\")\n",
    "\n",
    "wine_max = data[\"country\"][np.argmax(data['wine_servings'])]\n",
    "print(f\"Первое место в списке потребителей вина: {wine_max} -> {np.max(data['wine_servings'])}\")\n",
    "\n",
    "alcohol_max = data[\"country\"][np.argmax(data['total_litres_of_pure_alcohol'])]\n",
    "print(f\"Первое место в списке потребителей алкоголя: {alcohol_max} -> {np.max(data['total_litres_of_pure_alcohol'])}\")\n"
   ]
  },
  {
   "cell_type": "markdown",
   "id": "fd82ea5c-8b80-42b4-9e70-e22779a8dbb1",
   "metadata": {
    "tags": []
   },
   "source": [
    "# **Задание 4**"
   ]
  },
  {
   "cell_type": "code",
   "execution_count": 182,
   "id": "901e53e8-e741-49ed-b6f7-646bd5d9052d",
   "metadata": {},
   "outputs": [],
   "source": [
    "david_tarino = np.genfromtxt('/Users/dmitry/Downloads/tarantino.csv', delimiter=',', skip_header = 1, \n",
    "                     dtype={ \n",
    "                            \"names\": [\"movie\", \"type\", \"word\", \"minutes_in\"],\n",
    "                            \"formats\": [\"U20\", \"U20\", \"U20\", \"f8\"]\n",
    "                            }\n",
    "                    ) "
   ]
  },
  {
   "cell_type": "code",
   "execution_count": 183,
   "id": "becae238-e6a7-4bd3-a4bf-ddda862b2bbf",
   "metadata": {
    "tags": []
   },
   "outputs": [
    {
     "name": "stdout",
     "output_type": "stream",
     "text": [
      "[('Reservoir Dogs', 'word', 'dick', 0.4 )\n",
      " ('Reservoir Dogs', 'word', 'dicks', 0.43)\n",
      " ('Reservoir Dogs', 'word', 'fucked', 0.55)\n",
      " ('Reservoir Dogs', 'word', 'fucking', 0.61)\n",
      " ('Reservoir Dogs', 'word', 'bullshit', 0.61)\n",
      " ('Reservoir Dogs', 'word', 'fuck', 0.66)\n",
      " ('Reservoir Dogs', 'word', 'shit', 0.9 )\n",
      " ('Reservoir Dogs', 'word', 'fuck', 1.43)\n",
      " ('Reservoir Dogs', 'word', 'dicks', 1.56)\n",
      " ('Reservoir Dogs', 'word', 'fuck', 1.66)\n",
      " ('Reservoir Dogs', 'word', 'dick', 1.75)\n",
      " ('Reservoir Dogs', 'word', 'dick', 1.75)\n",
      " ('Reservoir Dogs', 'word', 'dick', 1.75)\n",
      " ('Reservoir Dogs', 'word', 'dick', 1.75)\n",
      " ('Reservoir Dogs', 'word', 'dick', 1.75)\n",
      " ('Reservoir Dogs', 'word', 'dick', 1.75)\n",
      " ('Reservoir Dogs', 'word', 'dick', 1.75)\n",
      " ('Reservoir Dogs', 'word', 'dicks', 1.75)\n",
      " ('Reservoir Dogs', 'word', 'motherfucker', 1.83)\n",
      " ('Reservoir Dogs', 'word', 'dick', 1.96)]\n"
     ]
    }
   ],
   "source": [
    "print(david_tarino[:20])"
   ]
  },
  {
   "cell_type": "markdown",
   "id": "57bce9fc-ebd7-4af3-aee4-990b2569b6d0",
   "metadata": {
    "tags": []
   },
   "source": [
    "## Число проклятий, летальных исходов и их отношение по фильмам\n",
    "\n"
   ]
  },
  {
   "cell_type": "code",
   "execution_count": 184,
   "id": "a0f4a1d4-e33f-4e71-906f-c7b14cc9ffa0",
   "metadata": {
    "tags": []
   },
   "outputs": [
    {
     "name": "stdout",
     "output_type": "stream",
     "text": [
      "Количество проклятий по всем фильмам: 1704\n",
      "Количество летальных исходов по всем фильмам: 190\n"
     ]
    }
   ],
   "source": [
    "number_of_curses = np.count_nonzero (david_tarino[\"type\"] == \"word\")\n",
    "print(f\"Количество проклятий по всем фильмам: {number_of_curses}\")\n",
    "\n",
    "number_of_deaths = np.count_nonzero (david_tarino[\"type\"] == \"death\")\n",
    "print(f\"Количество летальных исходов по всем фильмам: {number_of_deaths}\")"
   ]
  },
  {
   "cell_type": "code",
   "execution_count": 185,
   "id": "7aa308b1-4a60-45ba-8e95-03d5d835c495",
   "metadata": {
    "tags": []
   },
   "outputs": [
    {
     "name": "stdout",
     "output_type": "stream",
     "text": [
      "['Django Unchained' 'Inglorious Basterds' 'Jackie Brown'\n",
      " 'Kill Bill: Vol. 1' 'Kill Bill: Vol. 2' 'Pulp Fiction' 'Reservoir Dogs']\n"
     ]
    }
   ],
   "source": [
    "movies = np.unique(david_tarino[\"movie\"])\n",
    "print(movies)"
   ]
  },
  {
   "cell_type": "code",
   "execution_count": 186,
   "id": "ac7487d0-2b48-4ba9-a9d6-25558738a5d2",
   "metadata": {
    "tags": []
   },
   "outputs": [
    {
     "name": "stdout",
     "output_type": "stream",
     "text": [
      "Число смертей в фильме Django Unchained: 47\n",
      "Число проклятий в фильме Django Unchained: 262\n",
      "Их отношение: 5.574\n",
      "\n",
      "Число смертей в фильме Inglorious Basterds: 48\n",
      "Число проклятий в фильме Inglorious Basterds: 58\n",
      "Их отношение: 1.208\n",
      "\n",
      "Число смертей в фильме Jackie Brown: 4\n",
      "Число проклятий в фильме Jackie Brown: 368\n",
      "Их отношение: 92.0\n",
      "\n",
      "Число смертей в фильме Kill Bill: Vol. 1: 63\n",
      "Число проклятий в фильме Kill Bill: Vol. 1: 57\n",
      "Их отношение: 0.905\n",
      "\n",
      "Число смертей в фильме Kill Bill: Vol. 2: 11\n",
      "Число проклятий в фильме Kill Bill: Vol. 2: 69\n",
      "Их отношение: 6.273\n",
      "\n",
      "Число смертей в фильме Pulp Fiction: 7\n",
      "Число проклятий в фильме Pulp Fiction: 469\n",
      "Их отношение: 67.0\n",
      "\n",
      "Число смертей в фильме Reservoir Dogs: 10\n",
      "Число проклятий в фильме Reservoir Dogs: 421\n",
      "Их отношение: 42.1\n",
      "\n"
     ]
    }
   ],
   "source": [
    "for i in range(len(movies)):\n",
    "    curses = np.sum((david_tarino[\"movie\"] == movies[i])*(david_tarino[\"type\"] == \"word\"))\n",
    "    deaths = np.sum((david_tarino[\"movie\"] == movies[i])*(david_tarino[\"type\"] == \"death\"))\n",
    "    ratio_of_quantities = curses / deaths\n",
    "    print(f\"Число смертей в фильме {movies[i]}: {deaths}\\nЧисло проклятий в фильме {movies[i]}: {curses}\\nИх отношение: {round(ratio_of_quantities,3)}\\n\")"
   ]
  },
  {
   "cell_type": "markdown",
   "id": "5c727d00-1bce-4b7b-ad63-48c40a7f6b48",
   "metadata": {
    "tags": []
   },
   "source": [
    "## Частота употребления конкретных прокрятий"
   ]
  },
  {
   "cell_type": "code",
   "execution_count": 187,
   "id": "1528fe30-232b-40aa-9255-ca85b83f3681",
   "metadata": {
    "tags": []
   },
   "outputs": [
    {
     "name": "stdout",
     "output_type": "stream",
     "text": [
      "Список всех проклятий: ['ass' 'asses' 'asshead' 'asshole' 'assholes' 'bastard' 'bastards' 'bitch'\n",
      " 'bitches' 'bullshit' 'chickenshit' 'cockblockery' 'cocksucker' 'cunt'\n",
      " 'cunts' 'damn' 'damned' 'dick' 'dickless' 'dicks' 'dumbass' 'faggot'\n",
      " 'fuck' 'fucked' 'fucker' 'fuckers' 'fuckface' 'fuckhead' 'fucking'\n",
      " 'fucks' 'fuckup' 'goddamn' 'goddamned' 'gook' 'gooks' 'hell' 'horeshit'\n",
      " 'horseshit' 'jackass' 'jap' 'japs' 'jew (verb)' 'merde' 'motherfucker'\n",
      " 'motherfuckers' 'motherfucking' 'n-word ' 'negro ' 'pussy' 'shit'\n",
      " 'shithead' 'shitless' 'shitload' 'shittiest' 'shitting' 'shitty' 'slope'\n",
      " 'slut' 'squaw' 'wetback']\n"
     ]
    }
   ],
   "source": [
    "arr_curses = np.unique(david_tarino[\"word\"])\n",
    "arr_curses = np.delete(arr_curses, 0, 0)\n",
    "\n",
    "print(f\"Список всех проклятий: {arr_curses}\")"
   ]
  },
  {
   "cell_type": "code",
   "execution_count": 188,
   "id": "1897cbbd-1b80-4414-a479-01bdde206e13",
   "metadata": {
    "tags": []
   },
   "outputs": [
    {
     "name": "stdout",
     "output_type": "stream",
     "text": [
      "ass = 140\n",
      "asses = 4\n",
      "asshead = 1\n",
      "asshole = 10\n",
      "assholes = 5\n",
      "bastard = 10\n",
      "bastards = 1\n",
      "bitch = 64\n",
      "bitches = 9\n",
      "bullshit = 15\n",
      "chickenshit = 1\n",
      "cockblockery = 1\n",
      "cocksucker = 2\n",
      "cunt = 2\n",
      "cunts = 1\n",
      "damn = 37\n",
      "damned = 3\n",
      "dick = 14\n",
      "dickless = 1\n",
      "dicks = 5\n",
      "dumbass = 1\n",
      "faggot = 1\n",
      "fuck = 213\n",
      "fucked = 25\n",
      "fucker = 8\n",
      "fuckers = 1\n",
      "fuckface = 1\n",
      "fuckhead = 1\n",
      "fucking = 407\n",
      "fucks = 3\n",
      "fuckup = 1\n",
      "goddamn = 113\n",
      "goddamned = 1\n",
      "gook = 1\n",
      "gooks = 2\n",
      "hell = 45\n",
      "horeshit = 1\n",
      "horseshit = 2\n",
      "jackass = 1\n",
      "jap = 1\n",
      "japs = 2\n",
      "jew (verb) = 1\n",
      "merde = 1\n",
      "motherfucker = 70\n",
      "motherfuckers = 15\n",
      "motherfucking = 27\n",
      "n-word  = 179\n",
      "negro  = 5\n",
      "pussy = 11\n",
      "shit = 221\n",
      "shithead = 3\n",
      "shitless = 1\n",
      "shitload = 2\n",
      "shittiest = 1\n",
      "shitting = 1\n",
      "shitty = 4\n",
      "slope = 1\n",
      "slut = 1\n",
      "squaw = 1\n",
      "wetback = 2\n"
     ]
    }
   ],
   "source": [
    "for word in arr_curses:\n",
    "    number_of_curse = np.sum(david_tarino[\"word\"]==word)\n",
    "    print(f\"{word} = {number_of_curse}\")"
   ]
  },
  {
   "cell_type": "markdown",
   "id": "2eaad5cc-ce86-49ff-84c1-06fc4eab7b69",
   "metadata": {},
   "source": [
    "## Распределение времени между проклятиями"
   ]
  },
  {
   "cell_type": "code",
   "execution_count": 259,
   "id": "134e23c7-996d-4ff5-8ea7-c20ab387825b",
   "metadata": {
    "tags": []
   },
   "outputs": [
    {
     "name": "stdout",
     "output_type": "stream",
     "text": [
      "Django Unchained: [7.23, 8.37, 8.38, 8.65, 8.87, 8.88, 9.8, 10.07, 10.53, 13.57, 14.07, 14.75, 14.78, 19.37, 20.25, 20.47, 22.67, 24.98, 28.55, 28.65] ...\n",
      "\n",
      "Inglorious Basterds: [22.2, 22.22, 22.32, 22.55, 30.93, 31.05, 32.52, 32.65, 32.97, 34.9, 34.97, 35.05, 35.1, 35.2, 35.3, 48.17, 48.68, 51.48, 52.55, 58.43] ...\n",
      "\n",
      "Jackie Brown: [4.38, 4.53, 4.63, 4.85, 4.95, 5.0, 5.28, 5.37, 5.45, 5.53, 5.6, 5.67, 5.7, 6.02, 6.08, 6.18, 6.37, 6.7, 7.45, 8.35] ...\n",
      "\n",
      "Kill Bill: Vol. 1: [7.12, 8.1, 8.12, 10.45, 10.5, 10.95, 10.98, 11.87, 12.17, 12.17, 12.48, 13.07, 13.08, 13.13, 13.18, 13.18, 13.28, 13.42, 17.2, 17.58] ...\n",
      "\n",
      "Kill Bill: Vol. 2: [1.18, 4.83, 9.02, 9.62, 11.38, 12.82, 15.53, 17.33, 18.7, 18.72, 19.37, 20.17, 20.3, 20.57, 20.98, 21.37, 21.42, 21.52, 21.8, 22.5] ...\n",
      "\n",
      "Pulp Fiction: [0.52, 0.82, 1.37, 1.62, 1.73, 1.77, 2.18, 2.22, 2.28, 2.28, 2.42, 2.45, 2.47, 2.53, 2.6, 3.52, 3.58, 3.67, 3.7, 4.68] ...\n",
      "\n",
      "Reservoir Dogs: [0.4, 0.43, 0.55, 0.61, 0.61, 0.66, 0.9, 1.43, 1.56, 1.66, 1.75, 1.75, 1.75, 1.75, 1.75, 1.75, 1.75, 1.75, 1.83, 1.96] ...\n",
      "\n"
     ]
    },
    {
     "data": {
      "image/png": "[encoded data removed]",
      "text/plain": [
       "<Figure size 640x480 with 1 Axes>"
      ]
     },
     "metadata": {},
     "output_type": "display_data"
    }
   ],
   "source": [
    "import matplotlib.pyplot as plt\n",
    "\n",
    "\n",
    "times = []\n",
    "for movie in movies:\n",
    "    arr = []\n",
    "    idx = np.where(david_tarino[\"movie\"] == movie)\n",
    "    for i in range(len(idx[0])):\n",
    "        if david_tarino[\"type\"][idx[0][i]]==\"word\":\n",
    "            arr.append(david_tarino[\"minutes_in\"][idx[0][i]])\n",
    "    #print(arr)\n",
    "    arr.sort()\n",
    "    print(f\"{movie}: {arr[:20]} ...\\n\")\n",
    "    \n",
    "    diff = np.diff(arr)\n",
    "    times = np.concatenate([times, diff])\n",
    "plt.xlabel(\"Time, minute\")\n",
    "plt.ylabel(\"Number of curses\")\n",
    "plt.title(\"Distribution of time intervals between two curses in Tarantino's films\")\n",
    "plt.grid(alpha=0.3)\n",
    "hist = plt.hist(times, bins = 100, color = \"green\", edgecolor='black', alpha = 0.4)\n",
    "\n"
   ]
  },
  {
   "cell_type": "code",
   "execution_count": null,
   "id": "db8a5f20-4413-4335-8857-32a90195f87f",
   "metadata": {},
   "outputs": [],
   "source": []
  },
  {
   "cell_type": "code",
   "execution_count": null,
   "id": "12dd15da-32ee-4886-b849-b4dd2bf682b0",
   "metadata": {},
   "outputs": [],
   "source": []
  },
  {
   "cell_type": "code",
   "execution_count": null,
   "id": "54c10b55-c398-4f52-9ae3-6f4e29e9ee65",
   "metadata": {},
   "outputs": [],
   "source": []
  }
 ],
 "metadata": {
  "kernelspec": {
   "display_name": "Python 3 (ipykernel)",
   "language": "python",
   "name": "python3"
  },
  "language_info": {
   "codemirror_mode": {
    "name": "ipython",
    "version": 3
   },
   "file_extension": ".py",
   "mimetype": "text/x-python",
   "name": "python",
   "nbconvert_exporter": "python",
   "pygments_lexer": "ipython3",
   "version": "3.11.5"
  }
 },
 "nbformat": 4,
 "nbformat_minor": 5
}
