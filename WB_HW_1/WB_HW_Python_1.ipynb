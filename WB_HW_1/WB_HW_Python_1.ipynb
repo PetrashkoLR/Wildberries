{
 "cells": [
  {
   "cell_type": "code",
   "execution_count": 1,
   "id": "160b1947-6f4a-4528-b2c9-0f805c1c19e0",
   "metadata": {},
   "outputs": [
    {
     "name": "stdout",
     "output_type": "stream",
     "text": [
      "Hello, World!\n"
     ]
    }
   ],
   "source": [
    "print(\"Hello, World!\")"
   ]
  },
  {
   "cell_type": "markdown",
   "id": "4ac2d7f2-573b-4287-a87d-d0a4f9c7666c",
   "metadata": {},
   "source": [
    "\n",
    "**Запустить jupyter notebook и написать скрипт на питон выводящий версии установленных библиотек**\n"
   ]
  },
  {
   "cell_type": "code",
   "execution_count": 6,
   "id": "4ef3720e-4896-472c-b8c8-9df5c6c2f95b",
   "metadata": {},
   "outputs": [
    {
     "name": "stdout",
     "output_type": "stream",
     "text": [
      "Numpy:  1.26.0\n",
      "Pandas:  2.1.1\n",
      "Python:  3.12.0 (v3.12.0:0fb18b02c8, Oct  2 2023, 09:45:56) [Clang 13.0.0 (clang-1300.0.29.30)]\n"
     ]
    }
   ],
   "source": [
    "import numpy as np\n",
    "import pandas as pd\n",
    "import sys\n",
    "\n",
    "#print('Python version: ',)\n",
    "print('Numpy: ', np.__version__)\n",
    "print('Pandas: ', pd.__version__)\n",
    "print('Python: ', sys.version)"
   ]
  },
  {
   "cell_type": "code",
   "execution_count": null,
   "id": "6fc15484-42af-4579-965b-8d8d2e49ca07",
   "metadata": {},
   "outputs": [],
   "source": []
  }
 ],
 "metadata": {
  "kernelspec": {
   "display_name": "Python 3 (ipykernel)",
   "language": "python",
   "name": "python3"
  },
  "language_info": {
   "codemirror_mode": {
    "name": "ipython",
    "version": 3
   },
   "file_extension": ".py",
   "mimetype": "text/x-python",
   "name": "python",
   "nbconvert_exporter": "python",
   "pygments_lexer": "ipython3",
   "version": "3.12.0"
  }
 },
 "nbformat": 4,
 "nbformat_minor": 5
}
